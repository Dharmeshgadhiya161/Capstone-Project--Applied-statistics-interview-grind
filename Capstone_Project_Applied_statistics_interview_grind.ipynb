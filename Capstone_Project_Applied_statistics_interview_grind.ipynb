{
  "nbformat": 4,
  "nbformat_minor": 0,
  "metadata": {
    "colab": {
      "provenance": []
    },
    "kernelspec": {
      "name": "python3",
      "display_name": "Python 3"
    },
    "language_info": {
      "name": "python"
    }
  },
  "cells": [
    {
      "cell_type": "markdown",
      "source": [
        "# End Course Summative Assignment\n",
        "\n",
        "**Problem Statement: Write the Solutions to the Top 50 Interview Questions and Explain any 5 Questions in a Video**\n",
        "\n",
        "Imagine you are a dedicated student aspiring to excel in job interviews. Your task is to write the solutions for any 50 interview questions out of  80 total questions  presented to you. Additionally, create an engaging video where you thoroughly explain the answers to any five of these questions.\n",
        "\n",
        "Your solutions should be concise, well-structured, and effective in showcasing your problem-solving skills. In the video, use a dynamic approach to clarify the chosen questions, ensuring your explanations are easily comprehensible for a broad audience."
      ],
      "metadata": {
        "id": "fBl95OuPKe16"
      }
    },
    {
      "cell_type": "markdown",
      "source": [
        "\n",
        "**Note:**\n",
        "\n",
        "1. Make a copy of this document and write your answers.\n",
        "2. Include the Video Link here in your document before submitting.\n",
        "\n",
        "\n",
        "**1. What is a vector in mathematics?**\n",
        "\n",
        "**2. How is a vector different from a scalar?**\n",
        "\n",
        "**3. What are the different operations that can be performed on vectors?**\n",
        "\n",
        "**4. How can vectors be multiplied by a scalar?**\n",
        "\n",
        "**5. What is the magnitude of a vector?**\n",
        "\n",
        "**6. How can the direction of a vector be determined?**\n",
        "\n",
        "**7. What is the difference between a square matrix and a rectangular matrix?**\n",
        "\n",
        "**8. What is a basis in linear algebra?**\n",
        "\n",
        "**9. What is a linear transformation in linear algebra?**\n",
        "\n",
        "**10. What is an eigenvector in linear algebra?**\n",
        "\n",
        "**11. What is the gradient in machine learning?**\n",
        "\n",
        "**12. What is backpropagation in machine learning?**\n",
        "\n",
        "**13. What is the concept of a derivative in calculus?**\n",
        "\n",
        "**14. How are partial derivatives used in machine learning?**\n",
        "\n",
        "**15. What is probability theory?**\n",
        "\n",
        "**16. What are the primary components of probability theory?**\n",
        "\n",
        "**17. What is conditional probability, and how is it calculated?**\n",
        "\n",
        "**18. What is Bayes theorem, and how is it used?**\n",
        "\n",
        "**19. What is a random variable, and how is it different from a regular variable?**\n",
        "\n",
        "**20. What is the law of large numbers, and how does it relate to probability theory?**\n",
        "\n",
        "**21. What is the central limit theorem, and how is it used?**\n",
        "\n",
        "**22. What is the difference between discrete and continuous probability distributions?**\n",
        "\n",
        "**23. What are some common measures of central tendency, and how are they calculated?**\n",
        "\n",
        "**24. What is the purpose of using percentiles and quartiles in data summarization?**\n",
        "\n",
        "**25. How do you detect and treat outliers in a dataset?**\n",
        "\n",
        "**26. How do you use the central limit theorem to approximate a discrete probability distribution?**\n",
        "\n",
        "**27. How do you test the goodness of fit of a discrete probability distribution?**\n",
        "\n",
        "**28. What is a joint probability distribution?**\n",
        "\n",
        "**29. How do you calculate the joint probability distribution?**\n",
        "\n",
        "**30. What is the difference between a joint probability distribution and a marginal probability distribution?**\n",
        "\n",
        "**31. What is the covariance of a joint probability distribution?**\n",
        "\n",
        "**32. How do you determine if two random variables are independent based on their joint probability distribution?**\n",
        "\n",
        "**33. What is the relationship between the correlation coefficient and the covariance of a joint probability distribution?**\n",
        "\n",
        "**34. What is sampling in statistics, and why is it important?**\n",
        "\n",
        "**35. What are the different sampling methods commonly used in statistical inference?**\n",
        "\n",
        "**36. What is the central limit theorem, and why is it important in statistical inference?**\n",
        "\n",
        "**37. What is the difference between parameter estimation and hypothesis testing?**\n",
        "\n",
        "**38. What is the p-value in hypothesis testing?**\n",
        "\n",
        "**39. What is confidence interval estimation?**\n",
        "\n",
        "**40. What are Type I and Type II errors in hypothesis testing?**\n",
        "\n",
        "**41. What is the difference between correlation and causation?**\n",
        "\n",
        "**42. How is a confidence interval defined in statistics?**\n",
        "\n",
        "**43. What does the confidence level represent in a confidence interval?**\n",
        "\n",
        "**44. What is hypothesis testing in statistics?**\n",
        "\n",
        "**45. What is the purpose of a null hypothesis in hypothesis testing?**\n",
        "\n",
        "**46. What is the difference between a one-tailed and a two-tailed test?**\n",
        "\n",
        "**47. What is experiment design, and why is it important?**\n",
        "\n",
        " **48. What are the key elements to consider when designing an experiment?**\n",
        "\n",
        " **49. How can sample size determination affect experiment design?**\n",
        "\n",
        " **50. What are some strategies to mitigate potential sources of bias in experiment design?**\n",
        "\n",
        " **51. What is the geometric interpretation of the dot product?**\n",
        "\n",
        " **52. What is the geometric interpretation of the cross-product?**\n",
        "\n",
        " **53. How are optimization algorithms with calculus used in training deep learning models?**\n",
        "\n",
        " **54. What are observational and experimental data in statistics?**\n",
        "\n",
        " **55. How are confidence tests and hypothesis tests similar? How are they different?**\n",
        "\n",
        " **56. What is the left-skewed distribution and the right-skewed distribution?**\n",
        "\n",
        " **57. What is Bessel’s correction?**\n",
        "\n",
        " **58. What is kurtosis?**\n",
        "\n",
        " **59. What is the probability of throwing two fair dice when the sum is 5 and 8?**\n",
        "\n",
        " **60. What is the difference between Descriptive and Inferential Statistics?**\n",
        "\n",
        " **61. Imagine that Jeremy took part in an examination. The test has a mean score of 160, and it has a standard deviation of 15. If Jeremy’s z-score is 1.20, what would be his score on the test?**\n",
        "\n",
        " **62. In an observation, there is a high correlation between the time a person sleeps and the amount of productive work he does. What can be inferred from this?**\n",
        "\n",
        " **63. What is the meaning of degrees of freedom (DF) in statistics?**\n",
        "\n",
        " **64. If there is a 30 percent probability that you will see a supercar in any 20-minute time interval, what is the proba­bility that you see at least one supercar in the period of an hour (60 minutes)?**\n",
        "\n",
        " **65. What is the empirical rule in Statistics?**\n",
        "\n",
        " **66. What is the relationship between sample size and power in hypothesis testing?**\n",
        "\n",
        " **67. Can you perform hypothesis testing with non-parametric methods?**\n",
        "\n",
        "**68. What factors affect the width of a confidence interval?**\n",
        "\n",
        "**69. How does increasing the confidence level affect the width of a confidence interval?**\n",
        "\n",
        "**70. Can a confidence interval be used to make a definitive statement about a specific individual in the population?**\n",
        "\n",
        "**71. How does sample size influence the width of a confidence interval?**\n",
        "\n",
        "**72. What is the relationship between the margin of error and confidence interval?**\n",
        "\n",
        "**73. Can two confidence intervals with different widths have the same confidence level?**\n",
        "\n",
        "**74. What is a Sampling Error and how can it be reduced?**\n",
        "\n",
        "**75. What is a Chi-Square test?**\n",
        "\n",
        "**76. What is a t-test?**\n",
        "\n",
        "**77. What is the ANOVA test?**\n",
        "\n",
        "**78. How is hypothesis testing utilised in A/B testing for marketing campaigns?**\n",
        "\n",
        "**79. What is the difference between one-tailed and two tailed t-tests?**\n",
        "\n",
        "**80. What is an inlier?**"
      ],
      "metadata": {
        "id": "A8s2vGwiKQT0"
      }
    },
    {
      "cell_type": "code",
      "source": [
        "import numpy as np #\n",
        "import matplotlib.pyplot as plt # visual\n",
        "import seaborn as sns # visual"
      ],
      "metadata": {
        "id": "8Plb4xFx3cJR"
      },
      "execution_count": null,
      "outputs": []
    },
    {
      "cell_type": "markdown",
      "source": [
        "## **1) What is a vector in mathematics?**"
      ],
      "metadata": {
        "id": "OMMZ_sF3dKF-"
      }
    },
    {
      "cell_type": "markdown",
      "source": [
        "A vector is a **mathematical quantity** that possesses both **magnitude (length) and direction**, typically represented as a line segment with an arrow where the **tail** signifies the starting point (initial point) and the head represents the **ending point** (terminal point) indicating the direction of the vector.\n",
        "\n"
      ],
      "metadata": {
        "id": "gULqUtMZWo_P"
      }
    },
    {
      "cell_type": "code",
      "source": [
        "from IPython import display\n",
        "display.IFrame(src='https://www.geogebra.org/classic/xbunqxhv', width=900, height=400)"
      ],
      "metadata": {
        "colab": {
          "base_uri": "https://localhost:8080/",
          "height": 421
        },
        "id": "FChJqoK3dPtc",
        "outputId": "2cf649a8-faf2-462a-fbe3-68f4fb00071f"
      },
      "execution_count": null,
      "outputs": [
        {
          "output_type": "execute_result",
          "data": {
            "text/plain": [
              "<IPython.lib.display.IFrame at 0x79fa08cfb550>"
            ],
            "text/html": [
              "\n",
              "        <iframe\n",
              "            width=\"900\"\n",
              "            height=\"400\"\n",
              "            src=\"https://www.geogebra.org/classic/xbunqxhv\"\n",
              "            frameborder=\"0\"\n",
              "            allowfullscreen\n",
              "            \n",
              "        ></iframe>\n",
              "        "
            ]
          },
          "metadata": {},
          "execution_count": 8
        }
      ]
    },
    {
      "cell_type": "markdown",
      "source": [
        "## **2) How is a vector different from a scalar?**"
      ],
      "metadata": {
        "id": "NO2po9VodHk9"
      }
    },
    {
      "cell_type": "markdown",
      "source": [
        "\n",
        "\n",
        "A **vector has both magnitude and direction**, whereas a **scalar has only magnitude and no direction**.\n",
        "\n",
        "Scalar only **one dimensional** and Vector it is **multidimensional**.\n",
        "\n",
        "scalar quantity can divide another scalar and Vector cannot divide another vector\n",
        "\n",
        "Scalars are simple numerical values that can describe quantities like mass, temperature, and speed.\n",
        "Example:\n",
        "* Scalar: Temperature (e.g., 30°C), Mass (e.g., 5 kg), Speed (e.g., 60 km/h)\n",
        "\n",
        "* Vector: Velocity (e.g., 60 km/h east), Force (e.g., 10 N downward)\n",
        "\n"
      ],
      "metadata": {
        "id": "vBy99LSaCdKP"
      }
    },
    {
      "cell_type": "markdown",
      "source": [
        "## **3) What are the different operations that can be performed on vectors?**\n",
        "\n"
      ],
      "metadata": {
        "id": "2_G0xQDoOw0n"
      }
    },
    {
      "cell_type": "markdown",
      "source": [
        "## **Key Vector Operations:**\n",
        "\n",
        "* **Addition of Two Vectors**\n",
        "\n",
        "* **Subtraction of Two Vectors**\n",
        "\n",
        "* **Multiplication of Vector with Scalar**\n",
        "### **Product of Two Vectors**\n",
        "* **Dot Product**\n",
        "* **Cross-Product**\n",
        "\n"
      ],
      "metadata": {
        "id": "QDp4NJlsYbAg"
      }
    },
    {
      "cell_type": "markdown",
      "source": [
        "### **Vector addition**\n",
        "\n",
        "\n",
        "\n",
        "\n",
        "\n"
      ],
      "metadata": {
        "id": "Z02bfS5JJlQu"
      }
    },
    {
      "cell_type": "markdown",
      "source": [
        "The sum, u + v, of two vectors, u and v, is constructed by placing u, at some arbitrary location, and then placing v such that v's tail point coincides with u's tip point, and u + v is the vector that starts at u's tail point, and ends at v's tip point.\n",
        "\n",
        "The Triangle Law of Vector Addition, where the sum is obtained by placing one vector’s tail at the tip of another.\n",
        "\n",
        "Example:-  \n",
        "u=(2,3),\n",
        " v=(3,−2)\n",
        "\n",
        "The sum of these vectors is:  u+v=(2+3,3+(−2))=(5,1)"
      ],
      "metadata": {
        "id": "eEofZBT_Hyq4"
      }
    },
    {
      "cell_type": "code",
      "source": [
        "import numpy as np\n",
        "import matplotlib.pyplot as plt\n",
        "\n",
        "# Define the vectors\n",
        "u = np.array([2, 3])\n",
        "v = np.array([3, -2])\n",
        "sum_uv = u + v  # Vector sum\n",
        "\n",
        "# Create the plot\n",
        "plt.figure(figsize=(6,4))\n",
        "# Plot vector u from origin\n",
        "plt.quiver(0, 0, u[0], u[1], angles='xy', scale_units='xy', scale=1, color='b', label='u (2,3)')\n",
        "# Plot vector v from the tip of u\n",
        "plt.quiver(u[0], u[1], v[0], v[1], angles='xy', scale_units='xy', scale=1, color='g', label='v (3,-2)')\n",
        "# Plot resultant vector u + v from origin\n",
        "plt.quiver(0, 0, sum_uv[0], sum_uv[1], angles='xy', scale_units='xy', scale=1, color='r', label='u + v (5,1)')\n",
        "# Set axis limits\n",
        "plt.xlim(-1, 6)\n",
        "plt.ylim(-4, 6)\n",
        "# Draw grid and axes\n",
        "plt.axhline(0, color='black', linewidth=0.5)\n",
        "plt.axvline(0, color='black', linewidth=0.5)\n",
        "plt.grid()\n",
        "# Labels\n",
        "plt.text(u[0], u[1], f' (2,3)', fontsize=12, verticalalignment='bottom', color='b')\n",
        "plt.text(u[0]+v[0], u[1]+v[1], f' (5,1)', fontsize=12, verticalalignment='bottom', color='r')\n",
        "plt.text(v[0], v[1], f' (3,-2)', fontsize=12, verticalalignment='bottom', color='g')\n",
        "plt.xlabel(\"X-axis\")\n",
        "plt.ylabel(\"Y-axis\")\n",
        "plt.title(\"Vector Addition using Triangle Law\")\n",
        "plt.legend()\n",
        "\n",
        "# Show the plot\n",
        "plt.show()\n",
        "\n"
      ],
      "metadata": {
        "id": "7799YYkY6NiI"
      },
      "execution_count": null,
      "outputs": []
    },
    {
      "cell_type": "code",
      "source": [
        "from IPython import display\n",
        "display.IFrame(src='https://www.geogebra.org/classic/wvfxkuvc', width=800, height=800)"
      ],
      "metadata": {
        "id": "DBnOcf-BdjUx"
      },
      "execution_count": null,
      "outputs": []
    },
    {
      "cell_type": "code",
      "source": [
        "from IPython import display\n",
        "display.IFrame(src='https://www.geogebra.org/classic/wvfxkuvc', width=1000, height=800)"
      ],
      "metadata": {
        "colab": {
          "base_uri": "https://localhost:8080/",
          "height": 821
        },
        "id": "S5z1KG2WGmfe",
        "outputId": "5c3a1eb3-10c1-4cef-99d0-32ff8c614fa2"
      },
      "execution_count": null,
      "outputs": [
        {
          "output_type": "execute_result",
          "data": {
            "text/plain": [
              "<IPython.lib.display.IFrame at 0x79fa08f17f10>"
            ],
            "text/html": [
              "\n",
              "        <iframe\n",
              "            width=\"1000\"\n",
              "            height=\"800\"\n",
              "            src=\"https://www.geogebra.org/classic/wvfxkuvc\"\n",
              "            frameborder=\"0\"\n",
              "            allowfullscreen\n",
              "            \n",
              "        ></iframe>\n",
              "        "
            ]
          },
          "metadata": {},
          "execution_count": 10
        }
      ]
    },
    {
      "cell_type": "markdown",
      "source": [
        "### **Subtraction Vectors**"
      ],
      "metadata": {
        "id": "QxpP7FX4KqOx"
      }
    },
    {
      "cell_type": "markdown",
      "source": [
        "Similar to addition.\n",
        "\n",
        "Vector subtraction the rule:\n",
        "\n",
        "**u−v=u+(−v)**\n",
        "\n",
        "This means we reverse the direction of v and then perform vector addition.\n",
        "\n",
        "Example:-\n",
        "\n",
        "u=(2,3) , v=(3,−2)\n",
        "\n",
        "u−v=(2,3)−(3,−2)=(2−3,3−(−2))=(−1,5)"
      ],
      "metadata": {
        "id": "Z0yJxV51RVow"
      }
    },
    {
      "cell_type": "code",
      "source": [
        "# Define vectors\n",
        "u = np.array([2, 3])\n",
        "v = np.array([3, -2])\n",
        "neg_v = -v  # Reverse direction of v\n",
        "diff_uv = u - v  # Vector subtraction result\n",
        "\n",
        "# Create the plot\n",
        "plt.figure(figsize=(6,6))\n",
        "\n",
        "# Plot vector u from origin\n",
        "plt.quiver(0, 0, u[0], u[1], angles='xy', scale_units='xy', scale=1, color='b', label='u (2,3)')\n",
        "\n",
        "# Plot vector -v from the tip of u\n",
        "plt.quiver(u[0], u[1], neg_v[0], neg_v[1], angles='xy', scale_units='xy', scale=1, color='g', label='-v (-3,2)')\n",
        "\n",
        "# Plot resultant vector u - v from origin\n",
        "plt.quiver(0, 0, diff_uv[0], diff_uv[1], angles='xy', scale_units='xy', scale=1, color='r', label='u - v (-1,5)')\n",
        "\n",
        "# Set axis limits\n",
        "plt.xlim(-5, 5)\n",
        "plt.ylim(-2, 6)\n",
        "\n",
        "# Draw grid and axes\n",
        "plt.axhline(0, color='black', linewidth=0.5)\n",
        "plt.axvline(0, color='black', linewidth=0.5)\n",
        "plt.grid()\n",
        "\n",
        "# Labels\n",
        "plt.text(u[0], u[1], f' (2,3)', fontsize=12, verticalalignment='bottom', color='b')\n",
        "plt.text(u[0] + neg_v[0], u[1] + neg_v[1], f' (-1,5)', fontsize=12, verticalalignment='bottom', color='r')\n",
        "plt.text(neg_v[0], neg_v[1], f' (-3,2)', fontsize=12, verticalalignment='bottom', color='g')\n",
        "\n",
        "plt.xlabel(\"X-axis\")\n",
        "plt.ylabel(\"Y-axis\")\n",
        "plt.title(\"Vector Subtraction using Reverse Vector\")\n",
        "plt.legend()\n",
        "\n",
        "# Show the plot\n",
        "plt.show()\n"
      ],
      "metadata": {
        "colab": {
          "base_uri": "https://localhost:8080/",
          "height": 564
        },
        "id": "G9PA0XxzKE3b",
        "outputId": "1d66731a-b8b1-4f9e-d53b-e177ef46f5f3"
      },
      "execution_count": null,
      "outputs": [
        {
          "output_type": "display_data",
          "data": {
            "text/plain": [
              "<Figure size 600x600 with 1 Axes>"
            ],
            "image/png": "[encoded data removed]"
          },
          "metadata": {}
        }
      ]
    },
    {
      "cell_type": "code",
      "source": [
        "display.IFrame(src='https://www.geogebra.org/classic/thkzrnqa', width=1000, height=800)"
      ],
      "metadata": {
        "colab": {
          "base_uri": "https://localhost:8080/",
          "height": 821
        },
        "id": "0tNXS4HAdoqp",
        "outputId": "30e4e1cc-6a5b-4913-dbc8-9a1ffdd46634"
      },
      "execution_count": null,
      "outputs": [
        {
          "output_type": "execute_result",
          "data": {
            "text/plain": [
              "<IPython.lib.display.IFrame at 0x79fa084191d0>"
            ],
            "text/html": [
              "\n",
              "        <iframe\n",
              "            width=\"1000\"\n",
              "            height=\"800\"\n",
              "            src=\"https://www.geogebra.org/classic/thkzrnqa\"\n",
              "            frameborder=\"0\"\n",
              "            allowfullscreen\n",
              "            \n",
              "        ></iframe>\n",
              "        "
            ]
          },
          "metadata": {},
          "execution_count": 11
        }
      ]
    },
    {
      "cell_type": "markdown",
      "source": [
        "### **Multiplication of Vector with Scalar**"
      ],
      "metadata": {
        "id": "IoOAa7FeacXu"
      }
    },
    {
      "cell_type": "markdown",
      "source": [
        "A vector can be multiplied by a scalar (a real number), which scales its magnitude.\n",
        "\n",
        "Example: 3 × (2, -1) = (6, -3)"
      ],
      "metadata": {
        "id": "V6iQZsJiaaTo"
      }
    },
    {
      "cell_type": "markdown",
      "source": [
        "### **Dot Product**"
      ],
      "metadata": {
        "id": "EKFRO9AFamLD"
      }
    },
    {
      "cell_type": "markdown",
      "source": [
        "The dot product of two vectors A and\n",
        "B is a scalar value obtained by multiplying corresponding components of the vectors and summing the results.\n",
        "\n",
        "**a · b = a₁b₁ + a₂b₂ + ... + aₙbₙ**\n",
        "\n",
        "Example :-\n",
        " A=(3,4),  B=(2,−1)\n",
        "\n",
        " A⋅B = (3×2) + (4×−1) = 6−4 = 2\n",
        "\n",
        "\n",
        "The dot product of two vectors is a valuable tool for calculating the angle between them, identifying when vectors are perpendicular (orthogonal), and finding the projection of one vector onto another.\n",
        "\n",
        "####Key points about the dot product:\n",
        "\n",
        "### Angle calculation:-\n",
        "The formula for the dot product involves the cosine of the angle between two vectors, allowing you to calculate the angle using the dot product value.\n",
        "\n",
        "### Perpendicularity check:-\n",
        "If the dot product of two vectors is zero, then the vectors are perpendicular to each other.\n",
        "\n",
        "### Vector projection:-\n",
        "Dividing the dot product of two vectors by the magnitude of one vector gives you the projection of the first vector onto the second.\n",
        "\n"
      ],
      "metadata": {
        "id": "4ZIQPQ6mgQSQ"
      }
    },
    {
      "cell_type": "code",
      "source": [
        "display.IFrame(src='https://www.geogebra.org/classic/n2evzwqn', width=1000, height=600)"
      ],
      "metadata": {
        "colab": {
          "base_uri": "https://localhost:8080/",
          "height": 621
        },
        "id": "WMSEsQKudwQF",
        "outputId": "5e3b66f5-dd3f-430e-ff40-652775d21f05"
      },
      "execution_count": null,
      "outputs": [
        {
          "output_type": "execute_result",
          "data": {
            "text/plain": [
              "<IPython.lib.display.IFrame at 0x79fa08411f50>"
            ],
            "text/html": [
              "\n",
              "        <iframe\n",
              "            width=\"1000\"\n",
              "            height=\"600\"\n",
              "            src=\"https://www.geogebra.org/classic/n2evzwqn\"\n",
              "            frameborder=\"0\"\n",
              "            allowfullscreen\n",
              "            \n",
              "        ></iframe>\n",
              "        "
            ]
          },
          "metadata": {},
          "execution_count": 4
        }
      ]
    },
    {
      "cell_type": "markdown",
      "source": [
        "### **Cross-Product**"
      ],
      "metadata": {
        "id": "O7GJiXcEauxT"
      }
    },
    {
      "cell_type": "markdown",
      "source": [
        "The cross product of two 3D vectors results in another vector perpendicular to both.\n",
        "\n",
        "Example: (1,2,3) × (4,5,6) = (-3, 6, -3)"
      ],
      "metadata": {
        "id": "eq-NsBzkgmPH"
      }
    },
    {
      "cell_type": "code",
      "source": [
        "display.IFrame(src='https://www.geogebra.org/classic/hz92uxy3', width=1000, height=600)\n"
      ],
      "metadata": {
        "colab": {
          "base_uri": "https://localhost:8080/",
          "height": 621
        },
        "id": "CLm15v5pd_TH",
        "outputId": "cabb0752-fbbf-479c-98fd-47b7b173fc58"
      },
      "execution_count": null,
      "outputs": [
        {
          "output_type": "execute_result",
          "data": {
            "text/plain": [
              "<IPython.lib.display.IFrame at 0x79fa08429790>"
            ],
            "text/html": [
              "\n",
              "        <iframe\n",
              "            width=\"1000\"\n",
              "            height=\"600\"\n",
              "            src=\"https://www.geogebra.org/classic/hz92uxy3\"\n",
              "            frameborder=\"0\"\n",
              "            allowfullscreen\n",
              "            \n",
              "        ></iframe>\n",
              "        "
            ]
          },
          "metadata": {},
          "execution_count": 5
        }
      ]
    },
    {
      "cell_type": "markdown",
      "source": [
        "## **4) How can vectors be multiplied by a scalar?**"
      ],
      "metadata": {
        "id": "7gs8qujcqncX"
      }
    },
    {
      "cell_type": "markdown",
      "source": [
        "When a vector is multiplied by a scalar, each component of the vector is multiplied by the scalar value,**the vector's magnitude changes, but its direction remains the same.**\n",
        "\n",
        "Example :-\n",
        "\n",
        " if we have a vector A = (a1, a2, a3) and a scalar c\n",
        "\n",
        " the scalar multiplication of the vector is c * A = (c * a1, c * a2, c * a3).\n",
        "\n"
      ],
      "metadata": {
        "id": "oBKaer3oulh0"
      }
    },
    {
      "cell_type": "markdown",
      "source": [
        "## **5. What is the magnitude of a vector?**\n"
      ],
      "metadata": {
        "id": "EhaJdF2N1QdH"
      }
    },
    {
      "cell_type": "markdown",
      "source": [
        "The magnitude of a vector represents its **length or size**.\n",
        "\n",
        "how much of a quantity is represented by the vector; it is calculated by taking the square root of the sum of the squares of its components.\n",
        "\n",
        "Calculation: To find the magnitude of a vector with components (x, y), use the **formula: |v| = √(x² + y²)**.\n",
        "\n",
        "Notation: **The magnitude of a vector \"v\" is typically written as |v|**.\n",
        "\n",
        "Example:-  \n",
        " v=(4,3)  # Vector v has two components(x,y).\n",
        "\n",
        " The magnitude of vector\n",
        "v\n",
        "a is :-\n",
        "\n",
        "2squer √4+3  = √25 = 5  # The length of the vector is 5.\n"
      ],
      "metadata": {
        "id": "TVg81jm8HYfK"
      }
    },
    {
      "cell_type": "markdown",
      "source": [
        "\n",
        "## **6. How can the direction of a vector be determined?**"
      ],
      "metadata": {
        "id": "61wBEJc41RbV"
      }
    },
    {
      "cell_type": "markdown",
      "source": [
        "The direction of a vector can be determined by finding the angle it makes with a reference axis or another vector.\n",
        "\n",
        "This can be done using trigonometric functions such as sine, cosine, or tangent.\n",
        "Alternatively, the direction can be represented using unit vectors or by specifying the angles of rotation needed to align the vector with the coordinate axes.\n",
        "\n",
        "Formula:-\n",
        " The formula to calculate the **direction angle** (θ) is:  θ = tan^-1 (y/x).\n",
        "\n",
        "Example:\n",
        "\n",
        "Vector: (3, 4)\n",
        "\n",
        "Calculating direction:-\n",
        "\n",
        " θ = tan^-1 (4 / 3)\n",
        "\n",
        "θ ≈ 53.1 degrees"
      ],
      "metadata": {
        "id": "Jy7UCj5llOVW"
      }
    },
    {
      "cell_type": "code",
      "source": [
        "# Define vector A\n",
        "plt.figure(figsize=(6,5))\n",
        "A = np.array([3, 4])\n",
        "\n",
        "# Compute angle\n",
        "theta = np.arctan2(A[1], A[0]) * (180 / np.pi)  # Convert to degrees\n",
        "\n",
        "# Plot vector\n",
        "plt.quiver(0, 0, A[0], A[1], angles='xy', scale_units='xy', scale=1, color='b', label=f'θ = {theta:.2f}°')\n",
        "\n",
        "# Set limits and labels\n",
        "plt.xlim(-5, 5)\n",
        "plt.ylim(-5, 5)\n",
        "plt.axhline(0, color='black', linewidth=0.5)\n",
        "plt.axvline(0, color='black', linewidth=0.5)\n",
        "plt.grid()\n",
        "plt.legend()\n",
        "plt.title(\"Vector Direction\")\n",
        "\n",
        "# Show plot\n",
        "plt.show()\n"
      ],
      "metadata": {
        "id": "OJ2ISiGFX2Dp",
        "colab": {
          "base_uri": "https://localhost:8080/",
          "height": 468
        },
        "outputId": "c1c48bf6-a44b-4323-e61b-f0f09bbb936f"
      },
      "execution_count": null,
      "outputs": [
        {
          "output_type": "display_data",
          "data": {
            "text/plain": [
              "<Figure size 600x500 with 1 Axes>"
            ],
            "image/png": "[encoded data removed]"
          },
          "metadata": {}
        }
      ]
    },
    {
      "cell_type": "markdown",
      "source": [
        "## **7. What is the difference between a square matrix and a rectangular matrix?**"
      ],
      "metadata": {
        "id": "QlO8hrLx1SMA"
      }
    },
    {
      "cell_type": "markdown",
      "source": [
        "* A square matrix has an **equal number of rows and columns**.\n",
        "* A rectangualer matrix where the **number of rows does not equal the number of columns.**\n",
        "\n",
        "* Squer matrix **n × n (e.g., 2×2, 3×3, etc.)**\n",
        "\n",
        "* Rectangular matrix **m × n where m ≠ n (e.g., 2×3, 3×4, etc.)**\n",
        "\n",
        "* Square matrix are widely used in linear algebra, determinants, and eigenvalues, while rectangular matrix are common in data representation (e.g.,spreadsheets, transformation matrix)."
      ],
      "metadata": {
        "id": "Y5s5sJ3Wm-QN"
      }
    },
    {
      "cell_type": "markdown",
      "source": [
        "## **8) What is a basis in linear algebra?**\n",
        "\n"
      ],
      "metadata": {
        "id": "2gZ7P-Y34Kw_"
      }
    },
    {
      "cell_type": "markdown",
      "source": [
        "A basis of a vector space is defined as a set of vectors that are both linearly independent and span the entire vector space, meaning every vector in the space can be expressed as a unique linear combination of the basis vectors.\n",
        "\n",
        "Key points about a basis:\n",
        "\n",
        "**Linear independence**:\n",
        "No vector in the basis can be written as a linear combination of the other vectors in the set.\n",
        "\n",
        "**Spanning**:\n",
        "The set of all possible linear combinations of the basis vectors includes every vector in the vector space.\n",
        "\n",
        "**Uniqueness**:\n",
        "Every vector in the space can be represented uniquely as a linear combination of the basis vectors."
      ],
      "metadata": {
        "id": "Shk3k9dK87VE"
      }
    },
    {
      "cell_type": "markdown",
      "source": [
        "## **9) What is a linear transformation in linear algebra?**\n"
      ],
      "metadata": {
        "id": "TYXqlzr74QbG"
      }
    },
    {
      "cell_type": "markdown",
      "source": [
        "A linear transformation (or linear map) in linear algebra is a function between two vector spaces that preserves the operations of vector addition and scalar multiplication.\n",
        "\n",
        "* A linear transformation takes a vector and transforms it into another vector.\n",
        "* It preserves the operations of vector addition and scalar multiplication.\n",
        "* It respects the underlying structure of each vector space.\n",
        "\n",
        "\n",
        "\n",
        "Additivity:-\n",
        "\n",
        "T(u+v)=T(u)+T(v)\n",
        "\n",
        "(The transformation of a sum is the sum of the transformations.)\n",
        "\n",
        "Homogeneity (Scalar Multiplication Preservation):-\n",
        "\n",
        "T(cv)=cT(v)\n",
        "\n",
        "(The transformation of a scaled vector is the scaled transformation.)"
      ],
      "metadata": {
        "id": "I6beE5NtI0iI"
      }
    },
    {
      "cell_type": "markdown",
      "source": [
        "## **10) What is an eigenvector in linear algebra?**"
      ],
      "metadata": {
        "id": "7dP3yPKf4T8X"
      }
    },
    {
      "cell_type": "markdown",
      "source": [
        "An eigenvector of a square matrix\n",
        "A is a nonzero vector v that remains in the same direction (up to a scalar multiple) when transformed by\n",
        "A.\n",
        "\n",
        "Mathematically, it satisfies the equation:\n",
        "\n",
        "Av=λv\n",
        "\n",
        "where:\n",
        "\n",
        "* A is an n×n matrix,\n",
        "\n",
        "* v is the eigenvector (a nonzero vector),\n",
        "\n",
        "* λ is the eigenvalue (a scalar associated with v).\n",
        "\n",
        "\n",
        "Principal Component Analysis (PCA):-\n",
        "\n",
        "* PCA uses eigenvectors (principal components) of the covariance matrix to reduce dimensionality while preserving variance.\n",
        "\n",
        "* The eigenvectors with the largest eigenvalues capture the most significant patterns in the data.\n"
      ],
      "metadata": {
        "id": "N0drvnuB4ZLF"
      }
    },
    {
      "cell_type": "markdown",
      "source": [],
      "metadata": {
        "id": "RN610ga0avK9"
      }
    },
    {
      "cell_type": "markdown",
      "source": [
        "## **11) What is the gradient in machine learning?**\n",
        "\n"
      ],
      "metadata": {
        "id": "B5CuRoZjwxIY"
      }
    },
    {
      "cell_type": "markdown",
      "source": [
        "The gradient is the vector of partial derivatives of a function with respect to its input variables. It is used in machine learning for optimizing models by adjusting their parameters in the direction of the steepest ascent.\n",
        "\n",
        "**Gradient Descent Formula:**\n",
        "\n",
        " θ=θ−α∇J(θ)\n",
        "\n",
        "* θ = model parameters (weights, biases)\n",
        "\n",
        "* α = learning rate (step size)\n",
        "* ∇J(θ) = gradient of the loss function"
      ],
      "metadata": {
        "id": "VMVfGOWk80zo"
      }
    },
    {
      "cell_type": "markdown",
      "source": [
        "## **12) What is backpropagation in machine learning?**\n",
        "\n"
      ],
      "metadata": {
        "id": "N061NIKDw1wY"
      }
    },
    {
      "cell_type": "markdown",
      "source": [
        "Backpropagation is an algorithm used in machine learning to calculate the gradient of a loss function with respect to the parameters of a neural network. It is used to optimize the network by adjusting the weights and biases."
      ],
      "metadata": {
        "id": "k9OjhFsWC9Ad"
      }
    },
    {
      "cell_type": "markdown",
      "source": [
        "## **13) What is the concept of a derivative in calculus?**\n",
        "\n",
        "\n",
        "\n"
      ],
      "metadata": {
        "id": "StbyaV1RDUkQ"
      }
    },
    {
      "cell_type": "markdown",
      "source": [
        " In calculus, the derivative represents the rate of change of a function with respect to its input variable. Geometrically, it corresponds to the slope of the tangent line to the function's graph at a particular point. The derivative provides information about how the function is changing locally, whether it is increasing or decreasing, and the steepness of the curve."
      ],
      "metadata": {
        "id": "NSGeGbujUh74"
      }
    },
    {
      "cell_type": "markdown",
      "source": [
        "## **14) How are partial derivatives used in machine learning?**\n",
        "\n"
      ],
      "metadata": {
        "id": "1s0-zYUcDpei"
      }
    },
    {
      "cell_type": "markdown",
      "source": [
        " Partial derivatives are used in machine learning, particularly in the field of deep learning, for optimizing neural networks. By calculating the partial derivatives of the loss function with respect to the network's weights, a process known as backpropagation, the network's parameters can be updated to minimize the loss. Partial derivatives provide information about how each weight affects the overall loss, enabling the network to learn and improve its predictions."
      ],
      "metadata": {
        "id": "qhNYgT3gYGa5"
      }
    },
    {
      "cell_type": "markdown",
      "source": [
        "## **15) What is probability theory?**\n",
        "\n"
      ],
      "metadata": {
        "id": "pY0i7-1CDrQs"
      }
    },
    {
      "cell_type": "markdown",
      "source": [
        "Probability theory is the branch of mathematics that deals with studying random events and the likelihood of their occurrence. It provides a framework for understanding uncertainty and making predictions based on statistical analysis.\n",
        "\n",
        "Probability is quantified as a number between zero and one"
      ],
      "metadata": {
        "id": "5zBoUQMgdYgW"
      }
    },
    {
      "cell_type": "markdown",
      "source": [
        "## **16) What are the primary components of probability theory?**"
      ],
      "metadata": {
        "id": "lCbKYiAODswH"
      }
    },
    {
      "cell_type": "markdown",
      "source": [
        " The primary components of probability theory include probability axioms and rules, conditional probability and Bayes theorem, random variables, and the law of large numbers and central limit theorem."
      ],
      "metadata": {
        "id": "iXHpLdnTedZ3"
      }
    },
    {
      "cell_type": "markdown",
      "source": [
        "## **17) What is conditional probability, and how is it calculated?**"
      ],
      "metadata": {
        "id": "iCTynlAHDlCq"
      }
    },
    {
      "cell_type": "markdown",
      "source": [
        "Conditional probability is a measure of the probability of an event occurring, given that another event has already occurred. If the event of interest is A and event B has already occurred, the conditional probability of A given B is usually written as P(A/B).\n",
        "\n",
        "Formula : P(A|B) = P (A ∩ B) / P(B)\n",
        "\n",
        "•\tP (A ∩ B) represents the probability of both events A and B occurring simultaneously.\n",
        "\n",
        "•\tP(B) represents the probability of event B occurring.\n",
        "\n",
        "Example :- Rolling a Die 🎲\n",
        "\n",
        "Problem :- What is the probability of rolling a 4, given that the number rolled is even?\n",
        "\n",
        "•\tP(A): Probability of rolling a 4 = 1/6 (as there is only one way to roll a 4 on a die).\n",
        "\n",
        "•\tP(B): Probability of rolling an even number = 1/2 (since half of the outcomes on a die are even).\n",
        "\n",
        "•\tP (A ∩ B): Probability of rolling both a 4 and an even number = 1/6 (since the only way to achieve both is by rolling a 4).\n",
        "\n",
        "•\tP(A|B) = P (A ∩ B) / P(B)\n",
        "\n",
        "•\tP(A|B) = (1/6) / (1/2)\n",
        "\n",
        "•\tP(A|B) = 1/3\n",
        "\n",
        "•\tThe probability of rolling a 4, given that the number rolled is even, is 1/3.\n",
        "\n",
        "\n",
        "\n"
      ],
      "metadata": {
        "id": "dZvWPt0ohBhT"
      }
    },
    {
      "cell_type": "markdown",
      "source": [
        "## **18) What is Bayes theorem, and how is it used?**\n"
      ],
      "metadata": {
        "id": "f9Z6dv10fSUm"
      }
    },
    {
      "cell_type": "markdown",
      "source": [
        "Bayes' Theorem is a fundamental concept in probability theory that describes how to update the probability of an event based on new evidence. It is widely used in machine learning, statistics, and AI.\n",
        "\n",
        "formula :-\n",
        "\n",
        "P(A|B) = P(B|A) * P(A) / P(B)\n",
        "\n",
        "Where P(B|A) is the probability of B given A has occurred,\n",
        "\n",
        "P(A) is the prior probability of A.\n",
        "\n",
        "P(B) is the prior probability of B.\n",
        "\n",
        "Bayes' theorem can be used to update our beliefs about the probability of an event as new information becomes available."
      ],
      "metadata": {
        "id": "tikGis__kCAg"
      }
    },
    {
      "cell_type": "markdown",
      "source": [
        "## **19) What is a random variable, and how is it different from a regular variable?**"
      ],
      "metadata": {
        "id": "ClJgmLOpfTS5"
      }
    },
    {
      "cell_type": "markdown",
      "source": [
        "A **random variable** is a variable in statistics that **represents a numerical outcome from a random experiment**.\n",
        "\n",
        "Example :- Rolling a die, X can be 1-6\n",
        "\n",
        "**Regular** variable, which has a **fixed value**.\n",
        "\n",
        "Example:- x=5 (fixed)"
      ],
      "metadata": {
        "id": "HmMsWNoSlsp3"
      }
    },
    {
      "cell_type": "markdown",
      "source": [
        "\n",
        "\n",
        "## **20) What is the law of large numbers, and how does it relate to probability theory?**"
      ],
      "metadata": {
        "id": "AjWvXucIfT5z"
      }
    },
    {
      "cell_type": "markdown",
      "source": [
        "The law of large numbers states that as the sample size of a random variable increases, the sample mean converges to the population mean. It is a fundamental concept in probability theory used to make predictions based on large datasets.\n",
        "\n",
        "In simple terms, if you repeat an experiment many times, the results will stabilize around the expected probability."
      ],
      "metadata": {
        "id": "gX8jk9N3orMO"
      }
    },
    {
      "cell_type": "markdown",
      "source": [
        "## **21) What is the central limit theorem, and how is it used?**\n"
      ],
      "metadata": {
        "id": "3XT5nelfpXlk"
      }
    },
    {
      "cell_type": "markdown",
      "source": [
        "The central limit theorem states that as the sample size of a random variable increases, the distribution of the sample means approaches a normal distribution. It is used to make predictions about the mean of a population based on a sample.\n",
        "\n",
        "In general, for the central limit theorem to hold, the sample size should be **equal to or greater than 30**.(>=30)"
      ],
      "metadata": {
        "id": "RObm12JMusrO"
      }
    },
    {
      "cell_type": "markdown",
      "source": [
        "The Key for the CLT :-\n",
        "\n",
        "•\tA sufficiently large sample size can predict the characteristics of a population more accurately.\n",
        "\n",
        "•\tSample sizes equal to or greater than 30 are often considered sufficient for the CLT to hold.\n",
        "\n",
        "•\tA key aspect of CLT is that the average of the sample means and standard deviations will equal the population mean and standard deviation.\n",
        "\n",
        "•\tCLT is useful in finance and investing when analyzing a large collection of securities to estimate portfolio distributions and traits for returns, risk, and correlation.\n",
        "\n",
        "Some of the key problems that the CLT solves are:\n",
        "\n",
        "•\tEstimating Population Parameters: The CLT helps us estimate population parameters, like the mean and standard deviation, by using a sample of the data. This is important because it allows us to make inferences about the entire population based on a smaller sample.\n",
        "\n",
        "•\tHypothesis Testing: The CLT is used to test hypotheses about population parameters, such as whether two means are statistically different or not.\n",
        "\n",
        "•\tConfidence Intervals: The CLT helps us create confidence intervals, which are ranges of values that we are confident contain the true population parameter.\n",
        "\n",
        "•\tModel Fitting: The CLT is also used in model fitting where it helps us estimate the parameters of a statistical model by using data.\n",
        "The CLT has some limitations.\n",
        "\n",
        "•\tSample Size: The CLT assumes that the sample size is large enough for the normal distribution to emerging. The CLT may not be applicable if the sample size is too small.\n",
        "\n",
        "•\tIndependence: The CLT assumes that the samples are independent of each other. If the samples are not independent, the CLT may not be applicable.\n",
        "\n",
        "•\tOutliers: The CLT is sensitive to outliers, which can skew the distribution and affect the accuracy of the results.\n",
        "\n",
        "•\tNon-Normal Distributions: The CLT only applies to populations with a normal distribution. The CLT may not be applicable if the population is not normally distributed.\n"
      ],
      "metadata": {
        "id": "_v6e8uribagk"
      }
    },
    {
      "cell_type": "code",
      "source": [
        "#dependencies\n",
        "import numpy as np\n",
        "import matplotlib.pyplot as plt\n",
        "\n",
        "population = np.random.uniform(0, 1, size=10000)\n",
        "\n",
        "# Define function to calculate sample means\n",
        "def calculate_sample_means(sample_size, num_samples):\n",
        "    means = []\n",
        "    for i in range(num_samples):\n",
        "        sample = np.random.choice(population, size=sample_size, replace=False)\n",
        "        sample_mean = np.mean(sample)\n",
        "        means.append(sample_mean)\n",
        "    return means\n",
        "# Calculate sample means for different sample sizes\n",
        "sample_sizes = [5, 10, 50, 100]\n",
        "num_samples = 1000\n",
        "sample_means = {}\n",
        "for sample_size in sample_sizes:\n",
        "    sample_means[sample_size] = calculate_sample_means(sample_size, num_samples)"
      ],
      "metadata": {
        "id": "02BIpGuUa_k7"
      },
      "execution_count": null,
      "outputs": []
    },
    {
      "cell_type": "code",
      "source": [
        "# Plot histograms of sample means for different sample sizes\n",
        "fig, ax = plt.subplots(2, 2, figsize=(10, 7))\n",
        "ax = ax.ravel()\n",
        "for i, sample_size in enumerate(sample_sizes):\n",
        "    ax[i].hist(sample_means[sample_size], bins=30)\n",
        "    ax[i].set_title(f\"Sample Size = {sample_size}\")\n",
        "plt.tight_layout()\n",
        "plt.show()"
      ],
      "metadata": {
        "colab": {
          "base_uri": "https://localhost:8080/",
          "height": 707
        },
        "id": "PWkEox_0bGBg",
        "outputId": "107e3bc0-843b-48e4-eb04-5608773258a8"
      },
      "execution_count": null,
      "outputs": [
        {
          "output_type": "display_data",
          "data": {
            "text/plain": [
              "<Figure size 1000x700 with 4 Axes>"
            ],
            "image/png": "[encoded data removed]"
          },
          "metadata": {}
        }
      ]
    },
    {
      "cell_type": "markdown",
      "source": [
        "\n",
        "\n",
        "##**22) What is the difference between discrete and continuous probability distributions?**\n",
        "\n"
      ],
      "metadata": {
        "id": "ojs-Vu3vpED1"
      }
    },
    {
      "cell_type": "markdown",
      "source": [
        " Discrete probability distributions have a **finite or countable number of possible values**\n",
        "\n",
        "✅ Probability is assigned to specific values.\n",
        "\n",
        "✅ The sum of all probabilities is 1.\n",
        "\n",
        "✅ Usually represented by a probability mass function (PMF).\n",
        "\n",
        "Examples\n",
        "\n",
        "* Rolling a Die 🎲: Outcomes: {1, 2, 3, 4, 5, 6}\n",
        "\n",
        "* Flipping a Coin 🪙: Outcomes: {Heads, Tails}\n",
        "\n",
        "* Number of Sales per Day: {0, 1, 2, 3, …}\n",
        "\n",
        "\n",
        "**continuous** probability distributions have an **infinite number of possible values.**\n",
        "\n",
        "✅ Probability is assigned over an interval (not specific values).\n",
        "\n",
        "✅ Probability is represented using a probability density function (PDF).\n",
        "\n",
        "✅ The area under the curve represents probability.\n",
        "\n",
        "Examples\n",
        "* Height of People 📏 (e.g., 170.5 cm)\n",
        "* Time Taken to Complete a Task ⏱ (e.g., 3.45 seconds)\n",
        "* Temperature 🌡 (e.g., 25.6°C)"
      ],
      "metadata": {
        "id": "laTQAx6gxj2j"
      }
    },
    {
      "cell_type": "code",
      "source": [
        "import numpy as np\n",
        "import matplotlib.pyplot as plt\n",
        "import seaborn as sns\n",
        "from scipy.stats import norm, binom\n",
        "\n",
        "# Discrete: Binomial Distribution (Flipping a Coin)\n",
        "n, p = 10, 0.5  # 10 trials, 50% success probability\n",
        "x_discrete = np.arange(0, n+1)\n",
        "y_discrete = binom.pmf(x_discrete, n, p)\n",
        "\n",
        "# Continuous: Normal Distribution (Height Data Example)\n",
        "x_continuous = np.linspace(-3, 3, 1000)\n",
        "y_continuous = norm.pdf(x_continuous, loc=0, scale=1)  # Standard normal distribution\n",
        "\n",
        "# Plot Discrete Distribution\n",
        "plt.figure(figsize=(10, 4))\n",
        "plt.subplot(1, 2, 1)\n",
        "plt.bar(x_discrete, y_discrete, color=\"blue\", alpha=0.6, label=\"Discrete\")\n",
        "plt.xlabel(\"x (Number of Successes)\")\n",
        "plt.ylabel(\"Probability\")\n",
        "plt.title(\"Discrete Distribution: Binomial\")\n",
        "plt.legend()\n",
        "\n",
        "# Plot Continuous Distribution\n",
        "plt.subplot(1, 2, 2)\n",
        "sns.lineplot(x=x_continuous, y=y_continuous, color=\"red\", label=\"Continuous\")\n",
        "plt.fill_between(x_continuous, y_continuous, alpha=0.3, color=\"red\")\n",
        "plt.xlabel(\"x (Standard Normal Variable)\")\n",
        "plt.ylabel(\"Probability Density\")\n",
        "plt.title(\"Continuous Distribution: Normal\")\n",
        "plt.legend()\n",
        "\n",
        "plt.tight_layout()\n",
        "plt.show()\n"
      ],
      "metadata": {
        "id": "yy78iBB8wb4S",
        "colab": {
          "base_uri": "https://localhost:8080/",
          "height": 407
        },
        "outputId": "6554bcc4-3da0-41fe-cd14-dc3f2d06be04"
      },
      "execution_count": null,
      "outputs": [
        {
          "output_type": "display_data",
          "data": {
            "text/plain": [
              "<Figure size 1000x400 with 2 Axes>"
            ],
            "image/png": "[encoded data removed]"
          },
          "metadata": {}
        }
      ]
    },
    {
      "cell_type": "markdown",
      "source": [
        "\n",
        "\n",
        "## **23) What are some common measures of central tendency, and how are they calculated?**\n"
      ],
      "metadata": {
        "id": "bEj8ucHlpdbW"
      }
    },
    {
      "cell_type": "markdown",
      "source": [
        "Common measures of central tendency include the mean, median, and mode.\n",
        "\n",
        "Mean: The mean is calculated by summing all values and dividing by the number of values.\n",
        "\n",
        " •\tFormula: Mean = (Sum of all values) / (Total number of values).\n",
        "\n",
        " •\tExample: For the data set {1, 2, 3, 4, 5}, the mean is (1+2+3+4+5) / 5 = 3.\n",
        "\n",
        "Median :-  The median is the middle value when values are arranged in order.\n",
        "\n",
        " •\tOdd number of values: The median is the middle value when the data is sorted in ascending order.\n",
        "\n",
        " •\tEven number of values: The median is the average of the two middle values when the data is sorted in ascending order.\n",
        "\n",
        " •\tExample: For the sorted data set {1, 2, 3, 4, 5}, the median is 3. For the sorted data set {1, 2, 3, 4}, the median is (2+3)/2 = 2.5.\n",
        "\n",
        "Mode :- The mode is the value that appears most frequently.\n",
        "\n",
        " •\tIdentify the value that occurs most often in the data set.\n",
        "\n",
        " •\tExample: For the data set {1, 2, 2, 3, 4, 4, 4, 5}, the mode is 4.\n"
      ],
      "metadata": {
        "id": "FNa9RzXa0HAX"
      }
    },
    {
      "cell_type": "code",
      "source": [
        "import numpy as np\n",
        "import statistics\n",
        "\n",
        "# Sample dataset\n",
        "data = [5, 10, 10, 15, 20, 25]\n",
        "\n",
        "# Mean\n",
        "mean_value = np.mean(data)\n",
        "\n",
        "# Median\n",
        "median_value = np.median(data)\n",
        "\n",
        "# Mode\n",
        "mode_value = statistics.mode(data)\n",
        "\n",
        "print(f\"Mean: {mean_value}\")\n",
        "print(f\"Median: {median_value}\")\n",
        "print(f\"Mode: {mode_value}\")\n"
      ],
      "metadata": {
        "colab": {
          "base_uri": "https://localhost:8080/"
        },
        "id": "3cSRVpUo1jcQ",
        "outputId": "72e9c8d2-e591-4c14-92bf-c4b59bc1bc1b"
      },
      "execution_count": null,
      "outputs": [
        {
          "output_type": "stream",
          "name": "stdout",
          "text": [
            "Mean: 14.166666666666666\n",
            "Median: 12.5\n",
            "Mode: 10\n"
          ]
        }
      ]
    },
    {
      "cell_type": "markdown",
      "source": [
        "## **24) What is the purpose of using percentiles and quartiles in data summarization?**\n",
        "\n"
      ],
      "metadata": {
        "id": "gHM6hbExplQl"
      }
    },
    {
      "cell_type": "markdown",
      "source": [
        "Percentiles and quartiles are statistical measures used to summarize and interpret data distribution. They help understand data spread, variability, and outliers, making them useful in fields like machine learning, finance, and healthcare."
      ],
      "metadata": {
        "id": "uuFGfw3754PM"
      }
    },
    {
      "cell_type": "markdown",
      "source": [
        "1️⃣ Percentiles 📈\n",
        "\n",
        "A percentile is a value below which a given percentage of data falls.\n",
        "\n",
        "🔹 Purpose:\n",
        "\n",
        "✔ Helps in ranking and comparison (e.g., test scores, income levels).\n",
        "\n",
        "✔ Identifies outliers and extreme values.\n",
        "\n",
        "✔ Used in machine learning, finance, and medical statistics.\n",
        "\n",
        "🔹 Example:\n",
        "\n",
        "If a student scores in the 90th percentile on an exam, it means they performed better than 90% of the students.\n",
        "\n",
        "2️⃣ Quartiles 📊\n",
        "\n",
        "Quartiles divide data into four equal parts:\n",
        "\n",
        "Q1 (25th percentile) → Lower quartile (25% of data falls below).\n",
        "\n",
        "Q2 (50th percentile) → Median (middle value of dataset).\n",
        "\n",
        "Q3 (75th percentile) → Upper quartile (75% of data falls below).\n",
        "\n",
        "🔹 Purpose:\n",
        "\n",
        "✔ Helps in understanding data spread and distribution.\n",
        "\n",
        "✔ Used in box plots to visualize data variation.\n",
        "\n",
        "✔ Helps detect skewness and outliers.\n",
        "\n",
        "🔹 Example:\n",
        "\n",
        "If Q1 = 30, Q2 = 50, and Q3 = 70, then 50% of the data falls between 30 and 70."
      ],
      "metadata": {
        "id": "Jn_xn_mftTdb"
      }
    },
    {
      "cell_type": "code",
      "source": [
        "import numpy as np\n",
        "import matplotlib.pyplot as plt\n",
        "\n",
        "# Sample dataset\n",
        "data = [24, 26, 50, 78, 90, 45, 50, 88, 60, 65, 120, 5]  # Includes an outlier (5, 120)\n",
        "\n",
        "# Create box plot\n",
        "plt.figure(figsize=(5, 6))\n",
        "plt.boxplot(data, vert=True, patch_artist=True, boxprops=dict(facecolor=\"lightblue\"))\n",
        "\n",
        "# Labels\n",
        "plt.title(\"Box Plot of Data\")\n",
        "plt.ylabel(\"Values\")\n",
        "\n",
        "# Show plot\n",
        "plt.show()\n"
      ],
      "metadata": {
        "id": "ynVlD8ihs7x_"
      },
      "execution_count": null,
      "outputs": []
    },
    {
      "cell_type": "markdown",
      "source": [
        "## **25) How do you detect and treat outliers in a dataset?**"
      ],
      "metadata": {
        "id": "WxbHagA0pvOU"
      }
    },
    {
      "cell_type": "markdown",
      "source": [
        "Outliers can be detected using various techniques, including scatter plots, box plots, and z-scores. Once identified, outliers can be treated using methods such as removal, transformation, or substitution."
      ],
      "metadata": {
        "id": "Od-ILOlB7XPW"
      }
    },
    {
      "cell_type": "markdown",
      "source": [
        "Outlier Detection Techniques .\n",
        "\n",
        "Visual :-\n",
        "\n",
        "*\tScatter Plots: These plots help identify outliers by visually showing data points that deviate significantly from the general trend or cluster.\n",
        "\n",
        "*\tBox Plots: Box plots visually represent the distribution of data, with outliers shown as points beyond the whiskers (typically 1.5 times the interquartile range).\n"
      ],
      "metadata": {
        "id": "h98f4z0aAcSW"
      }
    },
    {
      "cell_type": "code",
      "source": [
        "import pandas as pd\n",
        "import numpy as np\n",
        "import matplotlib.pyplot as plt\n",
        "import seaborn as sns\n",
        "\n",
        "# Generate random data\n",
        "np.random.seed(42)\n",
        "data = pd.DataFrame({'value': np.random.normal(0, 1, 1000)})"
      ],
      "metadata": {
        "id": "lRt5x6mb8fev"
      },
      "execution_count": null,
      "outputs": []
    },
    {
      "cell_type": "code",
      "source": [
        "# Function to detect outliers using IQR\n",
        "def detect_outliers_iqr(data):\n",
        "    Q1 = data.quantile(0.25)\n",
        "    Q3 = data.quantile(0.75)\n",
        "    IQR = Q3 - Q1\n",
        "    lower_bound = Q1 - 1.5 * IQR\n",
        "    upper_bound = Q3 + 1.5 * IQR\n",
        "    return (data < lower_bound) | (data > upper_bound)\n",
        "\n",
        "# Detect outliers\n",
        "outliers = detect_outliers_iqr(data['value'])\n",
        "\n",
        "print(f\"Number of outliers detected: {sum(outliers)}\")"
      ],
      "metadata": {
        "colab": {
          "base_uri": "https://localhost:8080/"
        },
        "id": "X8j3_bW88k3X",
        "outputId": "0ede5552-8f8a-4bc8-e6ed-952743680405"
      },
      "execution_count": null,
      "outputs": [
        {
          "output_type": "stream",
          "name": "stdout",
          "text": [
            "Number of outliers detected: 8\n"
          ]
        }
      ]
    },
    {
      "cell_type": "code",
      "source": [
        "# Visualize the data with outliers using scatter plot and box plot\n",
        "fig, (ax1, ax2) = plt.subplots(1, 2, figsize=(13, 4))\n",
        "\n",
        "# Scatter plot\n",
        "ax1.scatter(range(len(data)), data['value'], c=['blue' if not x else 'red' for x in outliers])\n",
        "ax1.set_title('Dataset with Outliers Highlighted (Scatter Plot)',fontsize=10)\n",
        "ax1.set_xlabel('Index')\n",
        "ax1.set_ylabel('Value')\n",
        "\n",
        "# Box plot\n",
        "sns.boxplot(x=data['value'], ax=ax2)\n",
        "ax2.set_title('Dataset with Outliers (Box Plot)',fontsize=10)\n",
        "ax2.set_xlabel('Value')\n",
        "\n",
        "plt.tight_layout()\n",
        "plt.show()"
      ],
      "metadata": {
        "colab": {
          "base_uri": "https://localhost:8080/",
          "height": 367
        },
        "id": "ojjF0yJ49A-n",
        "outputId": "57210d66-264c-46da-e4ea-dcb1f28cedb9"
      },
      "execution_count": null,
      "outputs": [
        {
          "output_type": "display_data",
          "data": {
            "text/plain": [
              "<Figure size 1300x400 with 2 Axes>"
            ],
            "image/png": "[encoded data removed]"
          },
          "metadata": {}
        }
      ]
    },
    {
      "cell_type": "code",
      "source": [
        "# Remove outliers\n",
        "data_cleaned = data[~outliers]\n",
        "\n",
        "print(f\"Original dataset size: {len(data)}\")\n",
        "print(f\"Cleaned dataset size: {len(data_cleaned)}\")\n",
        "\n",
        "fig, (ax1, ax2) = plt.subplots(1, 2, figsize=(13, 4))\n",
        "\n",
        "# Scatter plot\n",
        "ax1.scatter(range(len(data_cleaned)), data_cleaned['value'])\n",
        "ax1.set_title('Dataset After Removing Outliers (Scatter Plot)',fontsize=10)\n",
        "ax1.set_xlabel('Index')\n",
        "ax1.set_ylabel('Value')\n",
        "\n",
        "# Box plot\n",
        "sns.boxplot(x=data_cleaned['value'], ax=ax2)\n",
        "ax2.set_title('Dataset After Removing Outliers (Box Plot)',fontsize=10)\n",
        "ax2.set_xlabel('Value')\n",
        "\n",
        "plt.tight_layout()\n",
        "plt.show()"
      ],
      "metadata": {
        "colab": {
          "base_uri": "https://localhost:8080/",
          "height": 462
        },
        "id": "-QW_gR4C9ZA5",
        "outputId": "c400e198-f7d5-459c-e075-d655c65008e4"
      },
      "execution_count": null,
      "outputs": [
        {
          "output_type": "stream",
          "name": "stdout",
          "text": [
            "Original dataset size: 1000\n",
            "Cleaned dataset size: 992\n"
          ]
        },
        {
          "output_type": "display_data",
          "data": {
            "text/plain": [
              "<Figure size 1300x400 with 2 Axes>"
            ],
            "image/png": "[encoded data removed]"
          },
          "metadata": {}
        }
      ]
    },
    {
      "cell_type": "markdown",
      "source": [
        "•\t**Statistical Methods** :-\n",
        "\n",
        "*\t**Z-score**: The Z-score method for outlier detection uses a dataset’s **standard deviation and its mean** to identify data points that are significantly different from the majority of the other data points.\n",
        "\n",
        "  * Z-score notion. The Z-score for a value of x in the dataset with a normal distribution with mean μ and standard deviation σ is given by:\n",
        "\n",
        " *  z = (x - μ)/σ\n",
        "\n",
        "  * Z-score takes the following values as shown below:\n",
        "\n",
        "  * The Z-score is equal to zero when x = .μ The Z-score is ± 1, ± 2, or ± 3, depending on whether x is ± 1, ± 2, or ± 3, respectively.\n",
        "\n",
        "\n",
        "\n",
        "*\t**Interquartile Range (IQR)** :- IQR outlier detection method involves calculating the first and third quartiles (Q1 and Q3) of a dataset and then identifying any data points that fall beyond the range of Q1 - 1.5 * IQR to Q3 + 1.5 * IQR, where IQR is the difference between Q3 and Q1. Data points that fall outside of this range are considered outliers\n"
      ],
      "metadata": {
        "id": "9vyxLYU2Ar31"
      }
    },
    {
      "cell_type": "code",
      "source": [
        "import numpy as np\n",
        "import matplotlib.pyplot as plt\n",
        "\n",
        "# Example dataset\n",
        "age_data = np.array([25, 26, 28, 30, 32, 35, 40, 100])  # 100 is an outlier\n",
        "\n",
        "# Calculate mean and standard deviation\n",
        "mean = np.mean(age_data)\n",
        "std = np.std(age_data)\n",
        "\n",
        "# Z-score threshold\n",
        "threshold = 3\n",
        "outliers = []\n",
        "\n",
        "# Compute Z-score for each data point\n",
        "for i in age_data:\n",
        "    z = (i - mean) / std\n",
        "    if abs(z) > threshold:\n",
        "        outliers.append(i)\n",
        "\n",
        "# Scatter plot\n",
        "plt.figure(figsize=(8, 5))\n",
        "plt.scatter(range(len(age_data)), age_data, label=\"Data Points\", color=\"blue\")\n",
        "plt.scatter([i for i in range(len(age_data)) if age_data[i] in outliers],\n",
        "            outliers, color=\"red\", label=\"Outliers\", marker=\"o\", s=100)\n",
        "\n",
        "# Labels & Title\n",
        "plt.axhline(mean, color=\"green\", linestyle=\"dashed\", label=\"Mean\")\n",
        "plt.xlabel(\"Index\")\n",
        "plt.ylabel(\"Value\")\n",
        "plt.title(\"Outlier Detection using Z-score\")\n",
        "plt.legend()\n",
        "plt.show()\n"
      ],
      "metadata": {
        "id": "jJdeMzmYEgrL"
      },
      "execution_count": null,
      "outputs": []
    },
    {
      "cell_type": "markdown",
      "source": [
        "## **26) How do you use the central limit theorem to approximate a discrete probability distribution?**\n",
        "\n"
      ],
      "metadata": {
        "id": "bvBSpxYx70Qi"
      }
    },
    {
      "cell_type": "markdown",
      "source": [
        "The central limit theorem states that as the sample size of a random variable increases, the distribution of the sample means approaches a normal distribution. It is used to make predictions about the mean of a population based on a sample.\n",
        "\n",
        "In general, for the central limit theorem to hold, the sample size should be **equal to or greater than 30**.(>=30)\n",
        "\n",
        "\n",
        "This is particularly useful for approximating **discrete probability distributions with a continuous normal distribution** when working with large sample sizes.\n",
        "\n",
        "**Example: Approximating a binomial distribution with the CLT**\n",
        "\n",
        "\n",
        "Problem:- **Suppose a fair coin is flipped 100 times. What is the probability of getting at most 55 heads?**\n",
        "* Calculate mean and standard deviation of the binomial distribution:\n",
        "\n",
        "  n=100, p=0.5\n",
        "  * Calculate Mean and Standard Deviation:\n",
        "     \n",
        "     µ = np = 100*0.5 = 50\n",
        "\n",
        "     σ = √(np(1-p)) = √(100.0.5*(1- 0.5)) = 5\n",
        "\n",
        "* Use the Normal Approximation:\n",
        "\n",
        "   * P(X) where X is the number of heads\n",
        "    \n",
        "    X∼N(50,5)\n",
        "\n",
        "* Apply Continuity Correction:-\n",
        "\n",
        "    P(X ≤ 55) ≈P(X≤55.5)\n",
        "* Convert to Z-Score:\n",
        "\n",
        "  Z= 55.5-50 / 5  =  5.5/5 = 1.1\n",
        "\n",
        "* Use a standard normal distribution table to find the probability :-\n",
        "  P(Z≤1.1)≈0.8643\n",
        "\n",
        "**The probability of getting at most 55 heads is approximately 0.864 (86.4%).**\n"
      ],
      "metadata": {
        "id": "wvdOWmYrBAZt"
      }
    },
    {
      "cell_type": "code",
      "source": [
        "import numpy as np\n",
        "import matplotlib.pyplot as plt\n",
        "import scipy.stats as stats\n",
        "\n",
        "# Define binomial parameters\n",
        "n = 100   # Number of trials (coin flips)\n",
        "p = 0.5   # Probability of heads\n",
        "mu = n * p  # Mean of binomial distribution\n",
        "sigma = np.sqrt(n * p * (1 - p))  # Standard deviation\n",
        "\n",
        "# Calculate Z-score for X = 55 (using continuity correction: 55.5)\n",
        "X_val = 55.5  # Apply continuity correction\n",
        "Z_score = (X_val - mu) / sigma  # Z-score formula\n",
        "probability = stats.norm.cdf(Z_score)  # Get probability from standard normal table\n",
        "\n",
        "# Print Z-score and probability\n",
        "print(f\"Mean (μ): {mu}\")\n",
        "print(f\"Standard Deviation (σ): {sigma:.2f}\")\n",
        "print(f\"Z-score for X = 55.5: {Z_score:.2f}\")\n",
        "print(f\"P(X ≤ 55) ≈ P(Z ≤ {Z_score:.2f}) ≈ {probability:.4f}\")\n",
        "\n",
        "# Generate binomial distribution samples\n",
        "samples = np.random.binomial(n, p, size=100000)\n",
        "\n",
        "# Plot histogram of binomial distribution\n",
        "plt.figure(figsize=(10, 6))\n",
        "plt.hist(samples, bins=30, density=True, alpha=0.6, color='blue', label='Binomial Distribution')\n",
        "\n",
        "# Plot normal approximation\n",
        "x = np.linspace(mu - 4*sigma, mu + 4*sigma, 100)\n",
        "normal_curve = stats.norm.pdf(x, mu, sigma)\n",
        "plt.plot(x, normal_curve, 'r-', label='Normal Approximation (CLT)')\n",
        "\n",
        "# Mark the probability of X ≤ 55 using Z-score\n",
        "x_shade = np.linspace(mu, 55, 100)\n",
        "plt.fill_between(x_shade, stats.norm.pdf(x_shade, mu, sigma), alpha=0.3, color='red', label=f'P(X ≤ 55) ≈ {probability:.4f}')\n",
        "\n",
        "# Labels and legend\n",
        "plt.axvline(55, color='black', linestyle='--', label='X = 55')\n",
        "plt.title('Binomial Distribution vs. Normal Approximation')\n",
        "plt.xlabel('Number of Heads (X)')\n",
        "plt.ylabel('Probability Density')\n",
        "plt.legend()\n",
        "plt.grid()\n",
        "\n",
        "# Show plot\n",
        "plt.show()"
      ],
      "metadata": {
        "id": "2O6gb5uu-B1f"
      },
      "execution_count": null,
      "outputs": []
    },
    {
      "cell_type": "code",
      "source": [
        "# Step 1: Generate Normally Distributed Population (Apple Weights)\n",
        "population_mean = 150  # Mean weight of apples\n",
        "population_std = 30    # Standard deviation\n",
        "population_size = 100000\n",
        "population = np.random.normal(population_mean, population_std, population_size)\n",
        "# Step 2: Take Multiple Random Samples & Compute Sample Means\n",
        "sample_size = 100\n",
        "num_samples = 1000\n",
        "sample_means = [np.mean(np.random.choice(population, sample_size)) for _ in range(num_samples)]\n",
        "\n",
        "# Step 3: Plot the Results\n",
        "plt.figure(figsize=(12, 4))\n",
        "# Plot the Population Distribution\n",
        "plt.subplot(1, 2, 1)\n",
        "sns.histplot(population, bins=50, kde=True, color='red')\n",
        "plt.title(\"Original Population Distribution (Apples)\")\n",
        "plt.xlabel(\"Apple Weight (grams)\")\n",
        "plt.ylabel(\"Frequency\")\n",
        "\n",
        "# Plot the Sample Means Distribution\n",
        "plt.subplot(1, 2, 2)\n",
        "sns.histplot(sample_means, bins=30, kde=True, color='blue')\n",
        "plt.title(f\"Sample Means Distribution (n={sample_size}) - CLT Applied\")\n",
        "plt.xlabel(\"Sample Mean (Apple Weight)\")\n",
        "plt.ylabel(\"Frequency\")\n",
        "plt.tight_layout()\n",
        "plt.show()\n"
      ],
      "metadata": {
        "colab": {
          "base_uri": "https://localhost:8080/",
          "height": 396
        },
        "id": "st-KMRNZnh36",
        "outputId": "e36ffba9-cc7f-4c7c-c46d-8e703afcec05"
      },
      "execution_count": null,
      "outputs": [
        {
          "output_type": "display_data",
          "data": {
            "text/plain": [
              "<Figure size 1200x400 with 2 Axes>"
            ],
            "image/png": "[encoded data removed]"
          },
          "metadata": {}
        }
      ]
    },
    {
      "cell_type": "markdown",
      "source": [
        "## **27) How do you test the goodness of fit of a discrete probability distribution?**"
      ],
      "metadata": {
        "id": "Ji8xdjk-77R1"
      }
    },
    {
      "cell_type": "markdown",
      "source": [
        "The chi-squared goodness-of-fit test is most common method for discrete distributions. It compares observed and expected frequencies to determine whether the data follows a hypothesized distribution."
      ],
      "metadata": {
        "id": "d0_AoC2UN3db"
      }
    },
    {
      "cell_type": "markdown",
      "source": [
        "## **28) What is a joint probability distribution?**"
      ],
      "metadata": {
        "id": "K4xxJu6AOrCY"
      }
    },
    {
      "cell_type": "markdown",
      "source": [
        "A joint probability distribution is a probability distribution that **describes the probabilities of two or more random variables occurring simultaneously/together**.\n",
        "\n",
        "Two discrete random variables X and Y, the joint probability mass function (PMF):- **P(X=x,Y=y)=P(x,y)** ,and continuous random variables, the joint probability density function (PDF)"
      ],
      "metadata": {
        "id": "nT3rP70nO9eJ"
      }
    },
    {
      "cell_type": "markdown",
      "source": [
        "## **29) How do you calculate the joint probability distribution?**"
      ],
      "metadata": {
        "id": "zx0G1NlmSz5h"
      }
    },
    {
      "cell_type": "markdown",
      "source": [
        "To calculate the joint probability distribution, you need to know the probability of each possible outcome for each random variable. You then multiply the probabilities to get the joint probability for each possible combination of outcomes."
      ],
      "metadata": {
        "id": "Ze6_2ClES5aI"
      }
    },
    {
      "cell_type": "markdown",
      "source": [
        "## **30) What is the difference between a joint probability distribution and a marginal probability distribution?**"
      ],
      "metadata": {
        "id": "pTkKWRaTVtv_"
      }
    },
    {
      "cell_type": "markdown",
      "source": [
        "**Joint probability distribution** describes the probability of multiple events occurring together.\n",
        "\n",
        "•\tFormula:- P (X=x ,Y=y) represents the probability of X taking value 'a' and Y taking value 'b' together.\n",
        "\n",
        "•\tDiscrete Random Variables (PMF) and Continuous Random Variables (PDF)\n",
        "\n",
        "•\tExample:-  P(Rain ,Cold) - Probability of both rain and cold weather.\n",
        "\n",
        "\n",
        "**Marginal probability distribution** focuses on the probability of a single variable, ignoring the values of other variables\n",
        "\n",
        "•\tFormula:- P (X=x) = ∑yP(X=x ,Y=y) (for discrete variables)  P(X=a) represents the probability of X taking value 'a', regardless of the value of Y.\n",
        "\n",
        "•\tExample: P(Rain) - Probability of rain, regardless of temperature.\n",
        "\n"
      ],
      "metadata": {
        "id": "FmRhJqP8ZIU8"
      }
    },
    {
      "cell_type": "markdown",
      "source": [
        "## **31) What is the covariance of a joint probability distribution?**\n"
      ],
      "metadata": {
        "id": "pCC_dGFXYXWt"
      }
    },
    {
      "cell_type": "markdown",
      "source": [
        "The covariance of a joint probability distribution measures the degree to which two random variables are related.It indicates whether an increase in one variable tends to be associated with an increase or decrease in the other variable.\n",
        "\n",
        "* It is calculated using the formula **Cov(X, Y) = E(XY) - E(X)E(Y).**\n",
        "* where E(XY) is the expected value of the product of X and Y.\n",
        "* E(X) and E(Y) are the expected values of X and Y, respectively.\n",
        "\n",
        "Interpretation:\n",
        "* Positive covariance: When the variables tend to move in the same direction (both increase or decrease together).\n",
        "* Negative covariance: When the variables tend to move in opposite directions (one increases while the other decreases).\n",
        "* Zero covariance: When there is no linear relationship between the variables, which could mean they are independent or have a non-linear relationship."
      ],
      "metadata": {
        "id": "-EB2ZBPIbPPK"
      }
    },
    {
      "cell_type": "markdown",
      "source": [
        "\n",
        "## **32) How do you determine if two random variables are independent based on their joint probability distribution?**\n",
        "\n"
      ],
      "metadata": {
        "id": "fUGcdWOYYZeC"
      }
    },
    {
      "cell_type": "markdown",
      "source": [
        "Two random variables are independent if their joint probability distribution can be expressed as the product of their marginal probability distributions. That is if P(X=x, Y=y) = P(X=x)*P(Y=y) for all possible values of x and y."
      ],
      "metadata": {
        "id": "4I4L75DIxjfO"
      }
    },
    {
      "cell_type": "markdown",
      "source": [
        "\n",
        "## **33) What is the relationship between the correlation coefficient and the covariance of a joint probability distribution?**\n"
      ],
      "metadata": {
        "id": "8Oj7G8qoYcLL"
      }
    },
    {
      "cell_type": "markdown",
      "source": [
        "The correlation coefficient is a standardized version of the covariance, which allows for comparison of the degree of relationship between variables on different scales.\n",
        "\n",
        "* Formula :-  **corr(X,Y)=cov(X,Y)/(std(X)∗std(Y))**\n",
        "* where σ(X) and σ(Y) are the standard deviations of X and Y, respectively."
      ],
      "metadata": {
        "id": "YfQo1Kc7zYGj"
      }
    },
    {
      "cell_type": "markdown",
      "source": [
        "## **34) What is sampling in statistics, and why is it important?**"
      ],
      "metadata": {
        "id": "sYteppbp0L-d"
      }
    },
    {
      "cell_type": "markdown",
      "source": [
        "Sampling is the process of selecting a subset (sample) from a larger population to analyze and draw conclusions about the entire population. Instead of studying every individual or data point, we use a representative sample to make inferences.\n",
        "\n",
        "Sampling Important :-\n",
        "\n",
        "Saves Time & Cost ⏳💰\n",
        "\n",
        "•\tCollecting data from an entire population can be expensive and time-consuming.\n",
        "\n",
        "•\tA well-chosen sample allows researchers to analyze trends faster.\n",
        "\n",
        "Feasibility & Practicality 🏗️\n",
        "\n",
        "•\tIn cases where testing the whole population is impossible (e.g., testing the durability of car tires), sampling makes research practical.\n",
        "\n",
        "Accuracy & Efficiency 🎯\n",
        "\n",
        "•\tA properly selected sample can provide accurate estimates of the population parameters.\n",
        "\n",
        "•\tStatistical techniques reduce errors and biases in sampling.\n",
        "\n",
        "Basis for Statistical Inference 📊\n",
        "\n",
        "•\tSampling enables hypothesis testing, confidence intervals, and predictions\n",
        "\n",
        "\n",
        "\n"
      ],
      "metadata": {
        "id": "e2DVMEK90PWK"
      }
    },
    {
      "cell_type": "markdown",
      "source": [
        "## **35) What are the different sampling methods commonly used in statistical inference?**"
      ],
      "metadata": {
        "id": "aCQkgJYN3JXA"
      }
    },
    {
      "cell_type": "markdown",
      "source": [
        "There are several sampling methods, including simple **random sampling, stratified sampling, systematic sampling, cluster sampling, and convenience sampling.** Each method has its own advantages and disadvantages, and the choice of method depends on the research objectives and available resources."
      ],
      "metadata": {
        "id": "G8M7ucE74kPV"
      }
    },
    {
      "cell_type": "markdown",
      "source": [
        "## **36) What is the central limit theorem, and why is it important in statistical inference?**"
      ],
      "metadata": {
        "id": "AisbTm1i6mZD"
      }
    },
    {
      "cell_type": "markdown",
      "source": [
        "The central limit theorem states that when **independent random variables are added, their sum tends toward a normal distribution, regardless of the shape of the original distribution.** It is important because it allows us to make assumptions about the **sampling distribution of the sample mean, even if the population distribution** is not known."
      ],
      "metadata": {
        "id": "63mBubG16qKZ"
      }
    },
    {
      "cell_type": "markdown",
      "source": [
        "Why is the Central Limit Theorem important?\n",
        "\n",
        "Sampling and Estimation: The CLT is crucial for inferential statistics because it allows us to make inferences about population parameters based on samples. It provides a solid foundation for constructing confidence intervals and performing hypothesis tests, making statistical estimates more reliable and accurate.\n",
        "\n",
        "Simplification of Complex Distributions: In many real-world scenarios, data may not follow a normal distribution, and their mathematical behavior can be quite complex. The CLT allows us to treat the sampling distribution of the mean as approximately normal, making statistical analysis much more manageable and feasible.\n",
        "\n",
        "Basis for Hypothesis Testing: Hypothesis tests often rely on the assumption of normality, and the CLT allows us to apply these tests even when dealing with non-normally distributed populations, provided the sample size is large enough.\n",
        "\n",
        "Modeling and Simulation: Many modeling and simulation techniques leverage the normal distribution due to its well-known properties. The CLT enables researchers to model and simulate complex phenomena by aggregating the effects of many random variables."
      ],
      "metadata": {
        "id": "GLMm6xFJVWR-"
      }
    },
    {
      "cell_type": "code",
      "source": [
        "import numpy as np\n",
        "import matplotlib.pyplot as plt\n",
        "import seaborn as sns\n",
        "\n",
        "# Step 1: Generate a skewed population (exponential distribution)\n",
        "np.random.seed(42)\n",
        "population = np.random.exponential(scale=2, size=10000)\n",
        "\n",
        "# Step 2: Take multiple random samples and calculate means\n",
        "sample_means = []\n",
        "sample_size = 50  # Large enough sample size\n",
        "\n",
        "for _ in range(1000):  # 1000 samples\n",
        "    sample = np.random.choice(population, size=sample_size, replace=True)\n",
        "    sample_means.append(np.mean(sample))\n",
        "\n",
        "# Step 3: Plot the results\n",
        "plt.figure(figsize=(10, 4))\n",
        "sns.histplot(sample_means, bins=30, kde=True, color='blue', label=\"Sample Means\")\n",
        "plt.axvline(np.mean(population), color='red', linestyle='dashed', label=\"True Mean\")\n",
        "plt.title(\"Demonstration of the Central Limit Theorem\")\n",
        "plt.xlabel(\"Sample Mean\")\n",
        "plt.ylabel(\"Frequency\")\n",
        "plt.legend()\n",
        "plt.show()\n"
      ],
      "metadata": {
        "id": "bum2pij17vvA"
      },
      "execution_count": null,
      "outputs": []
    },
    {
      "cell_type": "code",
      "source": [
        "#dependencies\n",
        "import numpy as np\n",
        "import matplotlib.pyplot as plt\n",
        "\n",
        "population = np.random.uniform(0, 1, size=10000)\n",
        "\n",
        "# Define function to calculate sample means\n",
        "def calculate_sample_means(sample_size, num_samples):\n",
        "    means = []\n",
        "    for i in range(num_samples):\n",
        "        sample = np.random.choice(population, size=sample_size, replace=False)\n",
        "        sample_mean = np.mean(sample)\n",
        "        means.append(sample_mean)\n",
        "    return means\n",
        "# Calculate sample means for different sample sizes\n",
        "sample_sizes = [5, 10, 50, 100]\n",
        "num_samples = 1000\n",
        "sample_means = {}\n",
        "for sample_size in sample_sizes:\n",
        "    sample_means[sample_size] = calculate_sample_means(sample_size, num_samples)"
      ],
      "metadata": {
        "id": "8sCCQ_YqT29A"
      },
      "execution_count": null,
      "outputs": []
    },
    {
      "cell_type": "code",
      "source": [
        "# Plot histograms of sample means for different sample sizes\n",
        "fig, ax = plt.subplots(1, 4, figsize=(16, 5))\n",
        "ax = ax.ravel()\n",
        "for i, sample_size in enumerate(sample_sizes):\n",
        "    ax[i].hist(sample_means[sample_size], bins=30, color=\"brown\")\n",
        "    ax[i].set_title(f\"Sample Size = {sample_size}\")\n",
        "plt.tight_layout()\n",
        "plt.show()"
      ],
      "metadata": {
        "colab": {
          "base_uri": "https://localhost:8080/",
          "height": 374
        },
        "id": "xs_cWmJ1T9W5",
        "outputId": "fb3feb52-b2f9-473c-a64b-c3ed6b465a41"
      },
      "execution_count": null,
      "outputs": [
        {
          "output_type": "display_data",
          "data": {
            "text/plain": [
              "<Figure size 1600x500 with 4 Axes>"
            ],
            "image/png": "[encoded data removed]"
          },
          "metadata": {}
        }
      ]
    },
    {
      "cell_type": "markdown",
      "source": [
        "## **37) What is the difference between parameter estimation and hypothesis testing?**"
      ],
      "metadata": {
        "id": "6pR9GYZ5BE4c"
      }
    },
    {
      "cell_type": "markdown",
      "source": [
        "* Parameter estimation involves estimating unknown parameters, such as the population mean or variance, based on sample data.\n",
        "\n",
        "* Hypothesis testing, on the other hand, involves making decisions about the population based on sample data, such as testing whether a specific hypothesis is true or not.\n",
        "\n",
        "* Parameter estimation focuses on determining unknown population values.\n",
        "\n",
        "* Hypothesis testing focuses on making decisions about population parameters based on statistical evidence."
      ],
      "metadata": {
        "id": "MLAuNxSlSBSI"
      }
    },
    {
      "cell_type": "markdown",
      "source": [
        "## **38) What is the p-value in hypothesis testing?**"
      ],
      "metadata": {
        "id": "FqK2fmP8TBml"
      }
    },
    {
      "cell_type": "markdown",
      "source": [
        " The p-value is the probability of obtaining a test statistic as extreme as, or more extreme than, **the observed value, assuming that the null hypothesis is true.** It is used to determine the statistical significance of the results and helps in deciding whether to reject or fail to reject the null hypothesis.\n",
        "\n",
        "\n",
        "* The p-value tells us how much evidence we have against the null hypothesis.\n",
        "\n",
        "* Small p-value (P < 0.05) suggests that the observed result is unlikely due to random chance, so we may reject H0.\n",
        "\n",
        "* Large p-value (p > 0.05) suggests that the observed result could occur by chance, so we fail to reject H0."
      ],
      "metadata": {
        "id": "XnzqThk6zbpj"
      }
    },
    {
      "cell_type": "markdown",
      "source": [
        "## **39) What is confidence interval estimation?**"
      ],
      "metadata": {
        "id": "SolmDw18THPF"
      }
    },
    {
      "cell_type": "markdown",
      "source": [
        "Confidence interval estimation is a method used to **estimate the range of values within which a population parameter(like the mean or proportion) is likely to fall based on a sample.**, It provides a range of plausible values rather than a single-point estimate, and the confidence level represents the probability that the interval contains the true population parameter.\n",
        "\n",
        "**Components**:\n",
        "* **Confidence level**: The probability that the calculated confidence interval will contain the true population parameter. Commonly set at 95%, but can be adjusted depending on the desired level of certainty.\n",
        "\n",
        "* **Lower and upper bounds**: The two endpoints of the confidence interval, representing the range of plausible values for the population parameter.\n"
      ],
      "metadata": {
        "id": "TT8CDnOdy38i"
      }
    },
    {
      "cell_type": "markdown",
      "source": [
        "## **40) What are Type I and Type II errors in hypothesis testing?**"
      ],
      "metadata": {
        "id": "voU_cezJTJ4o"
      }
    },
    {
      "cell_type": "markdown",
      "source": [
        "In hypothesis testing, there are two types of errors that can\n",
        "occur when making a decision about the null hypothesis: Type\n",
        "I error and Type II error.\n",
        "\n",
        "* **Type-I (False Positive)  error occurs when the null hypothesis is rejected, even though it is true. It represents a false positive result**.\n",
        "\n",
        "     *  Type I error is denoted by α (alpha), which is also known as\n",
        "the significance level.\n",
        "\n",
        "     * By choosing a significance level, researchers can control the risk of making a Type I error.\n",
        "\n",
        "* **Type-II (False Negative) error occurs when the null hypothesis is not rejected, even though it is false. It represents a false negative result.**\n",
        "\n",
        "  * This means that the researcher fails to detect a significant\n",
        "effect or relationship when one actually exists.\n",
        "\n",
        " * The probability of committing a **Type II error is denoted by β (beta)**."
      ],
      "metadata": {
        "id": "82Bi_N6P1ru0"
      }
    },
    {
      "cell_type": "markdown",
      "source": [
        "## **41) What is the difference between correlation and causation?**\n"
      ],
      "metadata": {
        "id": "OvMCu6HtzqhF"
      }
    },
    {
      "cell_type": "markdown",
      "source": [
        "Correlation refers to a **statistical relationship between two variables**, indicating how they move together. Causation, on the other hand, implies that **one variable directly influences or causes a change in another variable**. While correlation can suggest a potential relationship, it does not prove causation, as there may be other underlying factors or confounding variables at play."
      ],
      "metadata": {
        "id": "dJ-bvQkh1-XO"
      }
    },
    {
      "cell_type": "markdown",
      "source": [
        "\n",
        "## **42) How is a confidence interval defined in statistics?**\n"
      ],
      "metadata": {
        "id": "c-mTS7m9zsdj"
      }
    },
    {
      "cell_type": "markdown",
      "source": [
        "A confidence interval is a range of values that is constructed around an estimate and is used to quantify the uncertainty associated with the estimate. It provides a level of confidence that the true population parameter lies within the interval."
      ],
      "metadata": {
        "id": "I_hmPVtI3p1s"
      }
    },
    {
      "cell_type": "markdown",
      "source": [
        "Example: Estimating the Average Height of Students\n",
        "Suppose we randomly sample 100 students and find their average height to be 168 cm with a standard deviation of 6 cm. We want to construct a 95% confidence interval for the true average height of all students."
      ],
      "metadata": {
        "id": "bclwrDnHi-ID"
      }
    },
    {
      "cell_type": "markdown",
      "source": [
        "Step 1: Identify Given Values\n",
        "Sample mean (xˉ) = 168 cm\n",
        "\n",
        "Standard deviation (s) = 6 cm\n",
        "\n",
        "Sample size (n) = 100\n",
        "\n",
        "Confidence level = 95% Z∗ value for 95% confidence = 1.96 (from Z-table)\n",
        "\n"
      ],
      "metadata": {
        "id": "_zrrA6OQjDAk"
      }
    },
    {
      "cell_type": "code",
      "source": [
        "import scipy.stats as stats\n",
        "import math\n",
        "\n",
        "def confidence_interval(mean, std_dev, sample_size, confidence=0.95):\n",
        "    # Get the Z-score for the given confidence level\n",
        "    z_score = stats.norm.ppf(1 - (1 - confidence) / 2)\n",
        "\n",
        "    # Calculate the Standard Error (SE)\n",
        "    se = std_dev / math.sqrt(sample_size)\n",
        "\n",
        "    # Calculate Margin of Error (ME)\n",
        "    margin_of_error = z_score * se\n",
        "\n",
        "    # Compute Confidence Interval\n",
        "    lower_bound = mean - margin_of_error\n",
        "    upper_bound = mean + margin_of_error\n",
        "\n",
        "    return (lower_bound, upper_bound)\n",
        "\n",
        "# Example Usage\n",
        "mean = 168  # Sample mean\n",
        "std_dev = 6  # Sample standard deviation\n",
        "sample_size = 100  # Number of observations\n",
        "confidence_level = 0.95  # 95% Confidence Level\n",
        "\n",
        "ci = confidence_interval(mean, std_dev, sample_size, confidence_level)\n",
        "print(f\"95% Confidence Interval: {ci}\")\n"
      ],
      "metadata": {
        "colab": {
          "base_uri": "https://localhost:8080/"
        },
        "id": "VcjJPOqJizWH",
        "outputId": "70abbe82-98f8-464c-c601-ece4c2ba14a2"
      },
      "execution_count": null,
      "outputs": [
        {
          "output_type": "stream",
          "name": "stdout",
          "text": [
            "95% Confidence Interval: (np.float64(166.82402160927597), np.float64(169.17597839072403))\n"
          ]
        }
      ]
    },
    {
      "cell_type": "markdown",
      "source": [
        "\n",
        "## **43) What does the confidence level represent in a confidence interval?**"
      ],
      "metadata": {
        "id": "M_lJE0Pnzvib"
      }
    },
    {
      "cell_type": "markdown",
      "source": [
        "The confidence level is the percentage of times that the true population parameter will be within the calculated interval. It's a measure of how sure you can be that your estimate is accurate.\n",
        "\n",
        "* For example, a 95% confidence interval means that you are 95% confident that the true population parameter is within the interval.\n",
        "\n",
        "* The confidence level is set by the alpha value.\n",
        "\n",
        "* Most researchers use a 95% confidence level.\n",
        "\n",
        "* You can choose a higher confidence level if you need more certainty."
      ],
      "metadata": {
        "id": "_DUR_-uC4XmP"
      }
    },
    {
      "cell_type": "markdown",
      "source": [
        "## **44) What is hypothesis testing in statistics?**"
      ],
      "metadata": {
        "id": "3MRX10P332JC"
      }
    },
    {
      "cell_type": "markdown",
      "source": [
        "Hypothesis testing is **a statistical method used to make inferences about population parameters based on sample data**.\n",
        "\n",
        "It involves formulating a null hypothesis and an alternative hypothesis, collecting sample data, and evaluating the evidence to determine whether there is enough evidence to reject the null hypothesis in favor of the alternative hypothesis.\n",
        "\n",
        "\n",
        "* Null Hypothesis (H0):\n",
        "The default assumption that there is **no effect or no difference**.\n",
        "\n",
        " Example: \"The average battery life of a smartphone is 10 hours.\"\n",
        "\n",
        "* Alternative Hypothesis (H1 or Ha):\n",
        "A statement that **contradicts H0 and represents the claim we want to test**.\n",
        "\n",
        " Example: \"The average battery life of a smartphone is not 10 hours.\""
      ],
      "metadata": {
        "id": "HluWRKiE482H"
      }
    },
    {
      "cell_type": "markdown",
      "source": [
        "## **45) What is the purpose of a null hypothesis in hypothesis testing?**"
      ],
      "metadata": {
        "id": "52LLBdwd33cV"
      }
    },
    {
      "cell_type": "markdown",
      "source": [
        "The null hypothesis represents the default assumption or claim that there is no significant difference or relationship between variables in the population. Hypothesis testing is performed to either reject or fail to reject the null hypothesis based on the evidence from the sample data.\n",
        "\n",
        "* The default assumption that there is **no effect or no difference**.\n",
        "\n",
        "* Example: \"The average battery life of a smartphone is 10 hours.\""
      ],
      "metadata": {
        "id": "xD-2VqLh91T-"
      }
    },
    {
      "cell_type": "markdown",
      "source": [
        "## **46) What is the difference between a one-tailed and a two-tailed test?**"
      ],
      "metadata": {
        "id": "PSrrrQpu36Bw"
      }
    },
    {
      "cell_type": "markdown",
      "source": [
        "In hypothesis testing, the choice between a one-tailed and a two-tailed test depends on the nature of the alternative hypothesis (HA) and how we assess significance.\n",
        "\n",
        "* One-tailefd test a of any statistical hypothesis, **where the alternative hypothesis is one-tailed either right-tailed or left-tailed**.\n",
        "\n",
        "* One-tailed Test, **we use either > or < sign** for the alternative hypothesis.\n",
        "\n",
        "* One-tailed test a Entire level of significance (α) i.e. 5% has either in the left tail or right tail.\n",
        "\n",
        "* Two_tailed test of a statistical hypothesis, **where the alternative hypothesis** is two-tailed.\n",
        "\n",
        "* Two-tailed a test we **use ≠ sign** for the alternative hypothesis.\n",
        "\n",
        "* Two-tailed test it **splits the level of significance (α)** into half."
      ],
      "metadata": {
        "id": "XiouXLFE38hC"
      }
    },
    {
      "cell_type": "markdown",
      "source": [
        "## **47) What is experiment design, and why is it important?**"
      ],
      "metadata": {
        "id": "CnGhCBLCApW4"
      }
    },
    {
      "cell_type": "markdown",
      "source": [
        "Experimental design in statistics refers to the process of planning and conducting experiments to answer research questions or test hypotheses.\n",
        "\n",
        " It is important because a well-designed experiment allows researchers to control variables, minimize bias, and draw reliable conclusions about cause-and-effect relationships."
      ],
      "metadata": {
        "id": "NOT9DNzH_LXr"
      }
    },
    {
      "cell_type": "markdown",
      "source": [
        "## **48) What are the key elements to consider when designing an experiment?**"
      ],
      "metadata": {
        "id": "JVQYhGUdCZyb"
      }
    },
    {
      "cell_type": "markdown",
      "source": [
        "The key elements to consider include a clear research question or hypothesis, identification and definition of variables (independent and dependent), proper control groups, random assignment of subjects to groups, standardized procedures, data collection methods, appropriate statistical analysis, and consideration for potential confounding variables and ethical implications; ensuring the experiment is unbiased and has adequate power to detect meaningful effects."
      ],
      "metadata": {
        "id": "GBsEKR_ZCbP6"
      }
    },
    {
      "cell_type": "markdown",
      "source": [
        "## **49) How can sample size determination affect experiment design?**"
      ],
      "metadata": {
        "id": "Lqcq0V93FBBx"
      }
    },
    {
      "cell_type": "markdown",
      "source": [
        "Sample size determination is a crucial aspect of experiment design. A larger sample size generally increases the statistical power of the study, allowing for more accurate detection of treatment effects. It also helps ensure that the study findings are representative of the target population."
      ],
      "metadata": {
        "id": "1rNnfUePHOlI"
      }
    },
    {
      "cell_type": "markdown",
      "source": [
        "## **50) What are some strategies to mitigate potential sources of bias in experiment design?**"
      ],
      "metadata": {
        "id": "0rnmQgqnHQMK"
      }
    },
    {
      "cell_type": "markdown",
      "source": [
        "Strategies to mitigate bias in experiment design include randomization, blinding, careful selection and allocation of participants, proper measurement techniques, and careful control of confounding variables. These strategies help minimize systematic errors and increase the reliability of the study results."
      ],
      "metadata": {
        "id": "E2eHqG28Hpou"
      }
    },
    {
      "cell_type": "markdown",
      "source": [
        "## **51) What is the geometric interpretation of the dot product?**"
      ],
      "metadata": {
        "id": "Q0T_QnYGH743"
      }
    },
    {
      "cell_type": "markdown",
      "source": [
        "## **52) What is the geometric interpretation of the cross-product?**"
      ],
      "metadata": {
        "id": "4bqzsgZWI1c6"
      }
    },
    {
      "cell_type": "markdown",
      "source": [
        "## **54) What are observational and experimental data in statistics?**"
      ],
      "metadata": {
        "id": "zhN8H1uTLwPG"
      }
    },
    {
      "cell_type": "markdown",
      "source": [
        "* The observational data refers to data collected by observing and measuring variables without actively manipulating any factors.\n",
        "\n",
        "* The experimental data is data collected through a controlled experiment where researchers actively manipulate one or more variables to study their effects on other variables.\n",
        "\n",
        "* observational data is \"passive\" observation, whereas experimental data is gathered by actively intervening in a situation to see how it changes."
      ],
      "metadata": {
        "id": "8p_FE-8RMFqZ"
      }
    },
    {
      "cell_type": "markdown",
      "source": [
        "## **55) How are confidence tests and hypothesis tests similar? How are they different?**"
      ],
      "metadata": {
        "id": "Jmn5MVBBMouJ"
      }
    },
    {
      "cell_type": "markdown",
      "source": [
        "* Confidence intervel(CI) test estimates a range for a population parameter (e.g., mean, proportion)\n",
        "\n",
        "* Confidence in output Provides an interval (e.g., 𝜇 ∈ [45, 55]).\n",
        "\n",
        "* Hypothesis tests a claim about a population parameter.\n",
        "\n",
        "* Hypothesis in output Provides a decision (reject or fail to reject H0)."
      ],
      "metadata": {
        "id": "Bnbnf2eqMqWb"
      }
    },
    {
      "cell_type": "markdown",
      "source": [
        "## **56) What is the left-skewed distribution and the right-skewed distribution?**\n"
      ],
      "metadata": {
        "id": "b4QwsHgBPLQz"
      }
    },
    {
      "cell_type": "markdown",
      "source": [
        "* A **left-skewed** distribution has a **longer tail on the left side** of the data, meaning most data points cluster towards the higher values with a few outliers on the lower end.\n",
        "\n",
        "* A **right-skewed** distribution has a **longer tail on the right side**, where most data points cluster towards the lower values with a few outliers on the higher end"
      ],
      "metadata": {
        "id": "8bTHTzYgP6mU"
      }
    },
    {
      "cell_type": "markdown",
      "source": [
        "![1_XU3Kdl521XnWHECHZ7XOaQ.webp](data:image/webp;base64,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)"
      ],
      "metadata": {
        "id": "0uTtQFI4QgQY"
      }
    },
    {
      "cell_type": "markdown",
      "source": [
        "\n",
        "## **57) What is Bessel’s correction?**\n"
      ],
      "metadata": {
        "id": "emjv_jSaPNUD"
      }
    },
    {
      "cell_type": "markdown",
      "source": [
        "Bessel's correction is the use of n-1 instead of n in the formula for sample variance and standard deviation. This correction is used to account for the bias in estimating population variance and standard deviation."
      ],
      "metadata": {
        "id": "7lvPsbPyT2Ko"
      }
    },
    {
      "cell_type": "markdown",
      "source": [
        "\n",
        "## **58) What is kurtosis?**"
      ],
      "metadata": {
        "id": "9WP_Q_UwPQXX"
      }
    },
    {
      "cell_type": "markdown",
      "source": [
        "Kurtosis is a statistical **measure that describes the tailedness of a probability distribution.** It indicates whether the **data has heavy or light tails compared to a normal distribution.**\n",
        "\n",
        "*  The three types of kurtosis:-\n",
        "    \n",
        "  *  Mesokurtic (Normal Distribution).\n",
        "  *  Leptokurtic (Heavy Tails).\n",
        "  *  Platykurtic (Light Tails)."
      ],
      "metadata": {
        "id": "oWgZ2aGAPT50"
      }
    },
    {
      "cell_type": "code",
      "source": [
        "import numpy as np\n",
        "import matplotlib.pyplot as plt\n",
        "import seaborn as sns\n",
        "import scipy.stats as stats\n",
        "\n",
        "# Generate different distributions\n",
        "np.random.seed(42)\n",
        "normal_data = np.random.normal(0, 1, 1000)       # Mesokurtic (Normal)\n",
        "leptokurtic_data = np.random.laplace(0, 1, 1000) # Leptokurtic (Heavy tails)\n",
        "platykurtic_data = np.random.uniform(-2, 2, 1000) # Platykurtic (Light tails)\n",
        "\n",
        "# Calculate kurtosis values\n",
        "kurtosis_normal = stats.kurtosis(normal_data)\n",
        "kurtosis_lepto = stats.kurtosis(leptokurtic_data)\n",
        "kurtosis_platy = stats.kurtosis(platykurtic_data)\n",
        "\n",
        "# Plot distributions\n",
        "fig, axes = plt.subplots(1, 3, figsize=(15, 5), sharey=True)\n",
        "\n",
        "# Mesokurtic (Normal Distribution)\n",
        "sns.histplot(normal_data, bins=30, kde=True, ax=axes[0], color=\"blue\")\n",
        "axes[0].set_title(f\"Mesokurtic (Normal) \\n Kurtosis: {kurtosis_normal:.2f}\")\n",
        "\n",
        "# Leptokurtic (Heavy Tails)\n",
        "sns.histplot(leptokurtic_data, bins=30, kde=True, ax=axes[1], color=\"red\")\n",
        "axes[1].set_title(f\"Leptokurtic (Heavy Tails) \\n Kurtosis: {kurtosis_lepto:.2f}\")\n",
        "\n",
        "# Platykurtic (Light Tails)\n",
        "sns.histplot(platykurtic_data, bins=30, kde=True, ax=axes[2], color=\"green\")\n",
        "axes[2].set_title(f\"Platykurtic (Light Tails) \\n Kurtosis: {kurtosis_platy:.2f}\")\n",
        "\n",
        "# Show the plot\n",
        "plt.tight_layout()\n",
        "plt.show()\n"
      ],
      "metadata": {
        "colab": {
          "base_uri": "https://localhost:8080/",
          "height": 397
        },
        "id": "tfOBhbR5V3nU",
        "outputId": "ee7c95bf-187a-45b3-ba71-759d7a76240d"
      },
      "execution_count": null,
      "outputs": [
        {
          "output_type": "display_data",
          "data": {
            "text/plain": [
              "<Figure size 1500x500 with 3 Axes>"
            ],
            "image/png": "[encoded data removed]"
          },
          "metadata": {}
        }
      ]
    },
    {
      "cell_type": "markdown",
      "source": [
        "## **59) What is the probability of throwing two fair dice when the sum is 5 and 8?**"
      ],
      "metadata": {
        "id": "aZRdmVyHbICo"
      }
    },
    {
      "cell_type": "markdown",
      "source": [
        "🎲 **Two fair dice**:- 6*6 = 36 total outcomes .\n",
        "\n",
        "🎲 When the **sum is 5 and 8?** :-\n",
        "\n",
        "🎲 Probability of Rolling a Sum of 5:-\n",
        "\n",
        " Possible pairs that sum to 5:-\n",
        "\n",
        "  * (1,4), (2,3), (3,2),(4,1)\n",
        "\n",
        "🎲 Total ways = 4\n",
        "\n",
        "🎲 Probability of Rolling a Sum of 8:-\n",
        "\n",
        " Possible pairs that sum to 8:-\n",
        "\n",
        "  * (2,6), (3,5), (4,4), (5,3), (6,2)\n",
        "\n",
        "🎲 Total ways = 5\n",
        "\n",
        "* Probabilities:\n",
        "\n",
        "🎲 P(Sum = 5) = 4/36 = 1/9\n",
        "\n",
        "🎲 p(sum= 8)  = 5/36  "
      ],
      "metadata": {
        "id": "4XyyJ-vjbKrE"
      }
    },
    {
      "cell_type": "markdown",
      "source": [
        "## **60) What is the difference between Descriptive and Inferential Statistics?**"
      ],
      "metadata": {
        "id": "8jY52rcEjt05"
      }
    },
    {
      "cell_type": "markdown",
      "source": [
        "* Descriptive statistics are used to **summarize and describe the important characteristics** of a dataset.\n",
        "\n",
        "* These statistics help to provide a quick overview of the data, identify patterns or trends, and determine if the data is skewed or has outliers.\n",
        "\n",
        "* Measures of Central Tendency: Mean, Median, Mode\n",
        "* Measures of Dispersion: Range, Variance, Standard Deviation\n",
        "* Graphical Representations: Histograms, Pie Charts, Boxplots\n",
        "\n",
        "* Inferential statistics allows us to make **predictions or draw conclusions about a larger population based on a sample of data**.\n",
        "\n",
        "* Hypothesis Testing (t-tests, chi-square tests, ANOVA)\n",
        "\n",
        "* Confidence Intervals (Estimating population parameters)\n",
        "\n",
        "* Regression Analysis (Predicting relationships)\n",
        "\n",
        "* Probability Distributions (Normal, Binomial, Poisson)"
      ],
      "metadata": {
        "id": "YfAptNxIjybG"
      }
    },
    {
      "cell_type": "markdown",
      "source": [
        "## **63) What is the meaning of degrees of freedom (DF) in statistics?**"
      ],
      "metadata": {
        "id": "KUIizJOYp1xj"
      }
    },
    {
      "cell_type": "markdown",
      "source": [
        "Degrees of Freedom (DF) refer to the number of independent values in a dataset that can vary while estimating a statistical parameter. It represents the amount of information available to make an inference.\n",
        "\n",
        "* They are used in hypothesis testing, including t-tests, chi-square tests, and ANOVA.\n",
        "* They influence the shape of probability distributions, such as the t-distribution."
      ],
      "metadata": {
        "id": "0F-8IdI8tT4o"
      }
    },
    {
      "cell_type": "markdown",
      "source": [
        "## **65) What is the empirical rule in Statistics?**\n"
      ],
      "metadata": {
        "id": "WUteFmB5p7Ej"
      }
    },
    {
      "cell_type": "markdown",
      "source": [
        "The Empirical Rule, also known as the 68-95-99.7 Rule,**states that for a normal (bell-shaped) distribution**, most of the data falls within **three standard deviations of the mean**.\n",
        "\n",
        "📌 Empirical Rule :-\n",
        "* 68% of the data falls within 1 standard deviation of the mean:\n",
        "        μ−σ≤X≤μ+σ\n",
        "\n",
        "* 95% of the data falls within 2 standard deviations of the mean:\n",
        "       μ−2σ≤X≤μ+2σ    \n",
        "\n",
        "* 99.7% of the data falls within 3 standard deviations of the mean:\n",
        "       μ−3σ≤X≤μ+3σ\n",
        "\t    \n",
        "\n",
        "**Example :-**\n",
        "\n",
        "* Suppose exam scores in a class follow a normal distribution with:\n",
        "\n",
        "   **Mean (μ) = 70 , Standard deviation (σ) = 10**\n",
        "\n",
        "\n",
        "* Using the Empirical Rule:\n",
        "\n",
        "  * **68% of students scored between 60 and 80 (70 ± 10)**\n",
        "\n",
        "  * **95% of students scored between 50 and 90 (70 ± 20)**\n",
        "\n",
        "  * **99.7% of students scored between 40 and 100 (70±30)**"
      ],
      "metadata": {
        "id": "mZXU4ReauvxR"
      }
    },
    {
      "cell_type": "markdown",
      "source": [
        "\n",
        "## **66) What is the relationship between sample size and power in hypothesis testing?**"
      ],
      "metadata": {
        "id": "PUtI1RTqp82M"
      }
    },
    {
      "cell_type": "markdown",
      "source": [
        "Power of a test refers to the probability of correctly rejecting the null hypothesis (H0) when the alternative hypothesis (HA) is true.\n",
        "\n",
        "* Power=1−β\n",
        "\n",
        "β is the probability of making a Type II error (failing to reject H0 ​when HA ​is true).\n",
        "\n",
        "Relation Between :-\n",
        "\n",
        "* Larger Sample Size → Higher Power :-  \n",
        "\n",
        " - A larger sample size reduces the variability (standard error), making it easier to detect a true effect.\n",
        "\n",
        " - It decreases the chance of a **Type II error (β), increasing the power**.\n",
        "\n",
        "* Smaller Sample Size → Lower Power :-\n",
        "\n",
        "  * A smaller sample size increases variability, making it harder to detect a true effect.\n",
        "\n",
        "  * It increases the probability of failing to **reject H0 when HA is true.**"
      ],
      "metadata": {
        "id": "j3NjGjtap_uC"
      }
    },
    {
      "cell_type": "markdown",
      "source": [
        "## **67) Can you perform hypothesis testing with non-parametric methods?**"
      ],
      "metadata": {
        "id": "5QpVGP7W792G"
      }
    },
    {
      "cell_type": "markdown",
      "source": [
        "Yes! Non-parametric hypothesis tests are used when the data does not meet the assumptions of parametric tests (such as normality or equal variances). These tests do not rely on specific distributional assumptions, making them useful for small sample sizes, ordinal data, and skewed distributions."
      ],
      "metadata": {
        "id": "3hLtvef7W5-J"
      }
    },
    {
      "cell_type": "markdown",
      "source": [
        "## **68) What factors affect the width of a confidence interval?**"
      ],
      "metadata": {
        "id": "Dw_9R5VkY0wk"
      }
    },
    {
      "cell_type": "markdown",
      "source": [
        "The width of a confidence interval is influenced by several factors, including the sample size, the variability of the data, and the chosen confidence level. Generally, larger sample sizes and lower variability result in narrower confidence intervals."
      ],
      "metadata": {
        "id": "I5me0EDAZplc"
      }
    },
    {
      "cell_type": "markdown",
      "source": [
        "## **69) How does increasing the confidence level affect the width of a confidence interval?**"
      ],
      "metadata": {
        "id": "h2WWS-mxceUg"
      }
    },
    {
      "cell_type": "markdown",
      "source": [
        "Increasing the confidence level increases the width of the confidence interval. This is because a higher confidence level requires a wider interval to provide a higher level of certainty that the true parameter is captured within it."
      ],
      "metadata": {
        "id": "mTR_SdfMctkP"
      }
    },
    {
      "cell_type": "markdown",
      "source": [
        "## **70) Can a confidence interval be used to make a definitive statement about a specific individual in the population?**"
      ],
      "metadata": {
        "id": "coPaCuuOcvCJ"
      }
    },
    {
      "cell_type": "markdown",
      "source": [
        "No,it only provides a range of values that are likely to include the true population parameter with a certain level of confidence, based on a sample taken from that population."
      ],
      "metadata": {
        "id": "VHoSeLHfdHKq"
      }
    },
    {
      "cell_type": "markdown",
      "source": [
        "## **71) How does sample size influence the width of a confidence interval?**\n"
      ],
      "metadata": {
        "id": "N0xx6ozte1ip"
      }
    },
    {
      "cell_type": "markdown",
      "source": [
        " Larger sample sizes result in narrower confidence intervals. As the sample size increases, the estimate becomes more precise, reducing the uncertainty associated with the estimate and leading to a narrower interval."
      ],
      "metadata": {
        "id": "8-HokTvEgoCO"
      }
    },
    {
      "cell_type": "markdown",
      "source": [
        "\n",
        "## **72) What is the relationship between the margin of error and confidence interval?**\n"
      ],
      "metadata": {
        "id": "8EDX5Ac-e34I"
      }
    },
    {
      "cell_type": "markdown",
      "source": [
        "\n",
        "\n",
        "* The margin of error determines the width of the confidence interval. A **larger MOE results in a wider Confidence Interval**, while a **smaller MOE leads to a narrower Confidence Interval**.\n",
        "* The MOE depends on the confidence level, sample size, and population variability. A higher confidence level (e.g., 99% instead of 95%) increases the MOE, leading to a wider CI.\n",
        "\n",
        "* The confidence interval is calculated as:\n",
        "\n",
        " CI= Sample Estimate ± Margin of Error"
      ],
      "metadata": {
        "id": "OJZGI_VBVIs5"
      }
    },
    {
      "cell_type": "markdown",
      "source": [
        "\n",
        "## **73) Can two confidence intervals with different widths have the same confidence level?**\n"
      ],
      "metadata": {
        "id": "1BFfRuoQe6XH"
      }
    },
    {
      "cell_type": "markdown",
      "source": [
        "Yes, it is possible for two confidence intervals with different widths to have the same confidence level. The width of the interval is influenced by factors like sample size and variability, while the confidence level is determined by the desired level of certainty, which may be the same for both intervals.\n",
        "\n",
        "Example :-\n",
        "* CI for a Large Sample (n = 500, 95% confidence level).\n",
        "\n",
        " - Suppose we estimate the average income with a narrow CI of ($50,000 ± $1,000$) → ($49,000, $51,000$).\n",
        "\n",
        "* CI for a Small Sample (n = 30, same 95% confidence level).\n",
        "\n",
        "  - The confidence interval might be wider, e.g., ($50,000 ± $5,000$) → ($45,000, $55,000$)."
      ],
      "metadata": {
        "id": "KXz6XOrWcZrE"
      }
    },
    {
      "cell_type": "markdown",
      "source": [
        "## **74) What is a Sampling Error and how can it be reduced?**"
      ],
      "metadata": {
        "id": "6iJu9A0we9Rw"
      }
    },
    {
      "cell_type": "markdown",
      "source": [
        "Sampling error is the difference between a sample statistic (sample mean) and the true population parameter (population mean). It occurs because we are analyzing only a subset (sample) of the population rather than the entire population.\n",
        "\n",
        "* Sampling Error = **Sample Statistic−Population Parameter**\n",
        "\n",
        "* Example:-\n",
        "\n",
        " Suppose the average height of all students in a school (population) is 165 cm, but a sample of 50 students has an average height of 162 cm. The sampling error is:\n",
        "\n",
        "   **165 − 162 = 3 cm**\n",
        "\n",
        "**How to reduce sampling error:-**\n",
        "\n",
        "*  Increase sample size:\n",
        "The larger the sample, the closer it is likely to reflect the population characteristics.\n",
        "* **Random sampling**:\n",
        "Employ random selection methods to ensure every member of the population has an equal chance of being included in the sample.\n",
        "\n",
        "* **Stratified sampling**:\n",
        "Divide the population into subgroups (strata) based on relevant characteristics and then randomly sample from each stratum to ensure representation of different groups.\n",
        "\n",
        "* **Cluster sampling**:\n",
        "Useful when the population is geographically dispersed, but can introduce larger sampling error compared to simple random sampling.\n",
        "\n",
        "* **Minimize non-response bias**:\n",
        "Take steps to encourage participation from all segments of the population, like follow-up reminders.\n",
        "\n",
        "* **Accurate sampling frame**:\n",
        "Ensure the list used to select the sample accurately represents the entire population.  "
      ],
      "metadata": {
        "id": "yhM5ioFefAf-"
      }
    },
    {
      "cell_type": "markdown",
      "source": [
        "## **75) What is a Chi-Square test?**\n"
      ],
      "metadata": {
        "id": "yPXq6NDpgTU1"
      }
    },
    {
      "cell_type": "markdown",
      "source": [
        "A Chi-Square (χ²) test is a n**on-parametric statistical test used** to determine whether there is a significant association between ca**tegorical variables in a dataset**.\n",
        "\n",
        "It is commonly used when data is in frequency counts (e.g., counts of people in different groups) rather than numerical values like means or variances.\n",
        "\n",
        "\n",
        "1) Chi-square test of **independence** :-\n",
        "\n",
        "* Compares two categorical variables to see if they are related\n",
        "* Also known as the chi-square test for association.\n",
        "* Used to test if there is an association **between attributes in a contingency table.**\n",
        "* Uses Pearson residuals to analyze the difference between observed and expected cell counts.\n",
        "\n",
        "2) Chi-square **goodness-of-fit test** :-\n",
        "* Compares the frequency distribution of a categorical variable to expectations .\n",
        "* Used to determine if data is significantly different from what was expected .\n",
        "* Used to test if the observed frequency distribution differs from a theoretical distribution .\n"
      ],
      "metadata": {
        "id": "jItXdQV4vfVO"
      }
    },
    {
      "cell_type": "markdown",
      "source": [
        "\n",
        "## **76) What is a t-test?**\n"
      ],
      "metadata": {
        "id": "BRzTZRBvgbvh"
      }
    },
    {
      "cell_type": "markdown",
      "source": [
        "A t-test is a statistical test used to **compare the means of one or two groups to determine** if the differences between them are statistically significant. It is commonly used when the sample size is small (n<30) and the **population standard deviation is unknown**.\n",
        "\n",
        "Assumptions of a t-test :-\n",
        "\n",
        "* Data is normally distributed (for small samples, normality is assumed).\n",
        "* Samples are independent (except for paired t-tests).\n",
        "* Equal variance (for independent t-tests, if variances are unequal, use Welch’s t-test).\n",
        "\n",
        "There are three types of t-tests :-\n",
        "\n",
        "**1) One-sample t-test:-** The one-sample t-test is used to **compare the mean of a single sample** to a known population mean. The null hypothesis states that there is no significant difference between the sample mean and the population mean, while the alternative hypothesis states that there is a significant difference.\n",
        "\n",
        "**2) Independent sample T-test :-** The independent two-sample t-test is used to **compare the means of two independent samples**. The null hypothesis states that there is no significant difference between the means of the two samples, while the alternative hypothesis states that there is a significant difference.\n",
        "\n",
        "**3) Paired t-test (dependent two-sample t-test):-** The paired t-test is used to **compare the means of two samples that are dependent or paired**, such as pre-test and post-test scores for the same group of subjects or measurements taken on the same subjects under two different conditions. The null hypothesis states that there is no significant difference between the means of the paired differences, while the alternative hypothesis states that there is a significant difference."
      ],
      "metadata": {
        "id": "6iYHnyztdWnT"
      }
    },
    {
      "cell_type": "markdown",
      "source": [
        "\n",
        "## **77) What is the ANOVA test?**"
      ],
      "metadata": {
        "id": "4N8lJc61geHm"
      }
    },
    {
      "cell_type": "markdown",
      "source": [
        "The ANOVA test (Analysis of Variance) is a statistical method used to determine whether there are statistically significant differences between the means of **three or more independent groups**.\n",
        "\n",
        "It compares the variance between group means to the variance within groups to assess if the observed differences are likely due to chance or a true effect.\n",
        "\n",
        "Avoids inflated Type I errors (false positives) that occur when using multiple t-tests.\n",
        "\n",
        "**Types of ANOVA**:-\n",
        "\n",
        "1) One-Way ANOVA :- \tComparing one categorical independent variable with three or more groups. (e.g., Sales performance for three marketing strategies: A, B, C)\n",
        "\n",
        "2)Two-Way ANOVA :\tComparing two categorical independent variables. (e.g., Impact of both marketing strategy and region on sales.)\n",
        "\n",
        "3) Repeated Measures ANOVA :-\tMeasuring the same group multiple times under different conditions. (e.g., Testing drug effectiveness at 1-month, 3-month, and 6-month intervals.)\n"
      ],
      "metadata": {
        "id": "yPTCFGk7MKzW"
      }
    },
    {
      "cell_type": "markdown",
      "source": [
        "## **78) How is hypothesis testing utilised in A/B testing for marketing campaigns?**"
      ],
      "metadata": {
        "id": "PW7uM9sggf4E"
      }
    },
    {
      "cell_type": "markdown",
      "source": [
        "A/B testing is a statistical method used to compare two versions of a marketing campaign (A & B) to determine which one performs better. Hypothesis testing plays a crucial role in ensuring the observed differences are statistically significant rather than due to random chance."
      ],
      "metadata": {
        "id": "PJqfUN4zBfSw"
      }
    },
    {
      "cell_type": "markdown",
      "source": [
        "\n",
        "## **80) What is an inlier?**"
      ],
      "metadata": {
        "id": "rcKbDFQMgjNw"
      }
    },
    {
      "cell_type": "markdown",
      "source": [
        "An inlier is a data point that lies within the expected range of a dataset and follows the general trend or distribution of the data. Unlike outliers, inliers do not significantly deviate from the other data points."
      ],
      "metadata": {
        "id": "TNg4sCS79iDK"
      }
    },
    {
      "cell_type": "code",
      "source": [],
      "metadata": {
        "id": "tXisA-1tdDFT"
      },
      "execution_count": null,
      "outputs": []
    }
  ]
}